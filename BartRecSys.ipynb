{
  "cells": [
    {
      "cell_type": "markdown",
      "metadata": {
        "id": "view-in-github",
        "colab_type": "text"
      },
      "source": [
        "<a href=\"https://colab.research.google.com/github/ANS1514/Projects_in_AI-ML/blob/main/hw6.ipynb\" target=\"_parent\"><img src=\"https://colab.research.google.com/assets/colab-badge.svg\" alt=\"Open In Colab\"/></a>"
      ]
    },
    {
      "cell_type": "code",
      "execution_count": null,
      "metadata": {
        "id": "nPoXX5GZWDGu",
        "outputId": "e425b57f-f94a-497c-9931-f6a068cf7b5d"
      },
      "outputs": [
        {
          "name": "stdout",
          "output_type": "stream",
          "text": [
            "WARNING:tensorflow:From C:\\Users\\anson\\AppData\\Local\\Packages\\PythonSoftwareFoundation.Python.3.11_qbz5n2kfra8p0\\LocalCache\\local-packages\\Python311\\site-packages\\tf_keras\\src\\losses.py:2976: The name tf.losses.sparse_softmax_cross_entropy is deprecated. Please use tf.compat.v1.losses.sparse_softmax_cross_entropy instead.\n",
            "\n"
          ]
        }
      ],
      "source": [
        "import torch\n",
        "from transformers import BartTokenizer, BartForConditionalGeneration, Trainer, TrainingArguments, DataCollatorForSeq2Seq\n",
        "from datasets import load_dataset"
      ]
    },
    {
      "cell_type": "code",
      "execution_count": null,
      "metadata": {
        "id": "kpGDqbaVWDGv",
        "outputId": "96fc4da7-1a58-41a9-ba1f-a7e2f3402115"
      },
      "outputs": [
        {
          "name": "stderr",
          "output_type": "stream",
          "text": [
            "C:\\Users\\anson\\AppData\\Local\\Packages\\PythonSoftwareFoundation.Python.3.11_qbz5n2kfra8p0\\LocalCache\\local-packages\\Python311\\site-packages\\transformers\\training_args.py:1611: FutureWarning: `evaluation_strategy` is deprecated and will be removed in version 4.46 of 🤗 Transformers. Use `eval_strategy` instead\n",
            "  warnings.warn(\n"
          ]
        },
        {
          "data": {
            "text/html": [
              "\n",
              "    <div>\n",
              "      \n",
              "      <progress value='2700' max='2700' style='width:300px; height:20px; vertical-align: middle;'></progress>\n",
              "      [2700/2700 07:04, Epoch 3/3]\n",
              "    </div>\n",
              "    <table border=\"1\" class=\"dataframe\">\n",
              "  <thead>\n",
              " <tr style=\"text-align: left;\">\n",
              "      <th>Step</th>\n",
              "      <th>Training Loss</th>\n",
              "      <th>Validation Loss</th>\n",
              "    </tr>\n",
              "  </thead>\n",
              "  <tbody>\n",
              "    <tr>\n",
              "      <td>500</td>\n",
              "      <td>2.643800</td>\n",
              "      <td>2.139530</td>\n",
              "    </tr>\n",
              "    <tr>\n",
              "      <td>1000</td>\n",
              "      <td>2.322400</td>\n",
              "      <td>2.065781</td>\n",
              "    </tr>\n",
              "    <tr>\n",
              "      <td>1500</td>\n",
              "      <td>1.882300</td>\n",
              "      <td>2.052562</td>\n",
              "    </tr>\n",
              "    <tr>\n",
              "      <td>2000</td>\n",
              "      <td>1.708800</td>\n",
              "      <td>2.061450</td>\n",
              "    </tr>\n",
              "    <tr>\n",
              "      <td>2500</td>\n",
              "      <td>1.468700</td>\n",
              "      <td>2.046364</td>\n",
              "    </tr>\n",
              "  </tbody>\n",
              "</table><p>"
            ],
            "text/plain": [
              "<IPython.core.display.HTML object>"
            ]
          },
          "metadata": {},
          "output_type": "display_data"
        },
        {
          "name": "stderr",
          "output_type": "stream",
          "text": [
            "C:\\Users\\anson\\AppData\\Local\\Packages\\PythonSoftwareFoundation.Python.3.11_qbz5n2kfra8p0\\LocalCache\\local-packages\\Python311\\site-packages\\transformers\\modeling_utils.py:3353: UserWarning: Moving the following attributes in the config to the generation config: {'early_stopping': True, 'num_beams': 4, 'no_repeat_ngram_size': 3, 'forced_bos_token_id': 0}. You are seeing this warning because you've set generation parameters in the model config, as opposed to in the generation config.\n",
            "  warnings.warn(\n"
          ]
        },
        {
          "data": {
            "text/plain": [
              "TrainOutput(global_step=2700, training_loss=1.9686623241283276, metrics={'train_runtime': 429.6263, 'train_samples_per_second': 6.285, 'train_steps_per_second': 6.285, 'total_flos': 1106660953681920.0, 'train_loss': 1.9686623241283276, 'epoch': 3.0})"
            ]
          },
          "execution_count": 12,
          "metadata": {},
          "output_type": "execute_result"
        }
      ],
      "source": [
        "# Load, Pre-process, and establish train/test\n",
        "dataset = load_dataset(\"cnn_dailymail\", \"3.0.0\")\n",
        "dataset['train'] = dataset['train'].select(range(1000))\n",
        "dataset['test'] = dataset['test'].select(range(200))\n",
        "\n",
        "def preprocess_function(examples):\n",
        "    inputs = [doc for doc in examples[\"article\"]]\n",
        "    targets = [summary for summary in examples[\"highlights\"]]\n",
        "    model_inputs = tokenizer(inputs, max_length=1024, truncation=True)\n",
        "    # Setup the tokenizer for targets\n",
        "    with tokenizer.as_target_tokenizer():\n",
        "        labels = tokenizer(targets, max_length=128, truncation=True)\n",
        "    model_inputs[\"labels\"] = labels[\"input_ids\"]\n",
        "    return model_inputs\n",
        "\n",
        "tokenizer = BartTokenizer.from_pretrained(\"facebook/bart-base\")\n",
        "model = BartForConditionalGeneration.from_pretrained(\"facebook/bart-base\")\n",
        "\n",
        "train_test_split = dataset[\"train\"].train_test_split(test_size=0.1, seed=42)\n",
        "train_dataset = train_test_split[\"train\"].map(preprocess_function, batched=True)\n",
        "test_dataset = train_test_split[\"test\"].map(preprocess_function, batched=True)\n",
        "\n",
        "# Train Args\n",
        "training_args = TrainingArguments(\n",
        "    output_dir=\"./results\",\n",
        "    evaluation_strategy=\"steps\",\n",
        "    eval_steps=500,\n",
        "    per_device_train_batch_size=1,\n",
        "    per_device_eval_batch_size=1,\n",
        "    learning_rate=3e-5,\n",
        "    num_train_epochs=3,\n",
        "    weight_decay=0.01,\n",
        "    save_total_limit=2,\n",
        "    fp16=torch.cuda.is_available(),\n",
        ")\n",
        "\n",
        "data_collator = DataCollatorForSeq2Seq(tokenizer, model=model)\n",
        "\n",
        "# set Trainer\n",
        "trainer = Trainer(\n",
        "    model=model,\n",
        "    args=training_args,\n",
        "    train_dataset=train_dataset,\n",
        "    eval_dataset=test_dataset,\n",
        "    data_collator=data_collator,\n",
        ")\n",
        "\n",
        "\n",
        "trainer.train()\n"
      ]
    },
    {
      "cell_type": "code",
      "execution_count": null,
      "metadata": {
        "id": "_T9IOz86WDGw",
        "outputId": "1bd06e7b-f5c3-421b-f73a-3237e6d5c3cb"
      },
      "outputs": [
        {
          "name": "stderr",
          "output_type": "stream",
          "text": [
            "Parameter 'function'=<function generate_summary at 0x000001E7CA7167A0> of the transform datasets.arrow_dataset.Dataset._map_single couldn't be hashed properly, a random hash was used instead. Make sure your transforms and parameters are serializable with pickle or dill for the dataset fingerprinting and caching to work. If you reuse this transform, the caching mechanism will consider it to be different from the previous calls and recompute everything. This warning is only showed once. Subsequent hashing failures won't be showed.\n",
            "Map: 100%|██████████| 100/100 [00:53<00:00,  1.88 examples/s]\n"
          ]
        },
        {
          "name": "stdout",
          "output_type": "stream",
          "text": [
            "BLEU Score: 0.10347868250945032\n",
            "ROUGE Scores: {'rouge1': 0.3320281176305042, 'rouge2': 0.12424298375468185, 'rougeL': 0.2359958850367327, 'rougeLsum': 0.3109968944341098}\n"
          ]
        }
      ],
      "source": [
        "import numpy as np\n",
        "import evaluate\n",
        "\n",
        "\n",
        "# Load metrics\n",
        "bleu_metric = evaluate.load(\"bleu\")\n",
        "rouge_metric = evaluate.load(\"rouge\")\n",
        "\n",
        "def generate_summary(batch):\n",
        "    inputs = tokenizer(batch[\"article\"], max_length=1024, truncation=True, padding=\"longest\", return_tensors=\"pt\")\n",
        "    inputs = {k: v.to(model.device) for k, v in inputs.items()}\n",
        "    summary_ids = model.generate(inputs[\"input_ids\"], num_beams=4, max_length=128, early_stopping=True)\n",
        "    batch[\"predictions\"] = tokenizer.batch_decode(summary_ids, skip_special_tokens=True)\n",
        "    return batch\n",
        "\n",
        "predictions = test_dataset.map(generate_summary, batched=True, batch_size=2)\n",
        "\n",
        "preds = predictions[\"predictions\"]\n",
        "refs = [[ref] for ref in predictions[\"highlights\"]]\n",
        "\n",
        "# Compute BLEU and ROUGE scores\n",
        "bleu_result = bleu_metric.compute(predictions=preds, references=refs)\n",
        "rouge_result = rouge_metric.compute(predictions=preds, references=refs)\n",
        "\n",
        "print(\"BLEU Score:\", bleu_result[\"bleu\"])\n",
        "print(\"ROUGE Scores:\", rouge_result)\n"
      ]
    },
    {
      "cell_type": "markdown",
      "metadata": {
        "id": "GsK9X73gWDGw"
      },
      "source": [
        "Analyze your results and discuss the impact of hyperparameters.\n",
        "- The hyperparameter tuning was a tad difficult for my machine. I was running into a ton of memory errors with my GPU, I had to lower the batch size and be cautious of usage. 100% hyperparameter tuning may be achioeved with infinite computational power, I had to work with what I had avaliable and that may reflect in the final scores from rouge and bleu.\n",
        "Are your results impacted by the choice of the LLM here? How?\n",
        "- Yes they are impacted by the choice of LLM, nothing is 100% similar. So results may be similar between LLMs but always different to some degree. Whether it be different tokenization or handling of inputs. BART is suited for seq2seq tasks like summarization, unlike T5 or LLaMA which is inherently general purpose."
      ]
    },
    {
      "cell_type": "markdown",
      "metadata": {
        "id": "BVbc_TFrWDGx"
      },
      "source": []
    },
    {
      "cell_type": "markdown",
      "metadata": {
        "id": "5o0xt3j-WDGx"
      },
      "source": [
        "Task 2(20 points): We discussed how we can formulate RL problems as an MDP. Describe any\n",
        "real-world application that can be formulated as an MDP. Describe the state space, action\n",
        "space, transition model, and rewards for that problem. You do not need to be precise in the\n",
        "description of the transition model and reward (no formula is needed). Qualitative description\n",
        "is enough.\n",
        "\n",
        "- An obvious example is the self driving car. This can easily be represented by the MDP, lets consider a self driving car at an intersection\n",
        "- State Space\n",
        "    - position\n",
        "    - velocty\n",
        "    - Traffic light status\n",
        "    - Pedestrian proximity\n",
        "    - Time spent waiting at light\n",
        "    - car proximity\n",
        "    - road lines\n",
        "- Action Space\n",
        "    - Drive\n",
        "    - Reverse\n",
        "    - Brake\n",
        "    - Turn\n",
        "    - Wait\n",
        "- Transition Model\n",
        "    - light green and car moving forward, results in the next stat in the middle of the intersection\n",
        "    - Red light results in the car braking with lowering velocity\n",
        "- Rewards\n",
        "    - positive: sucessfully crossing / braking / not hitting another car / being between the lines of the road\n",
        "    - Large Negative: hitting something\n",
        "    - Small Negative: harsh braking / inbetween lanes / waiting too long to move/brake"
      ]
    },
    {
      "cell_type": "markdown",
      "metadata": {
        "id": "MECOfN9WWDGx"
      },
      "source": [
        "Task 3(20 points): RL is used in various sectors - Healthcare, recommender systems and trading\n",
        "are a few of those. Pick one of the three areas. Explain one of the problems in any of these\n",
        "domains that can be more effectively solved by reinforcement learning. Find an open-source\n",
        "project (if any) that has addressed this problem. Explain this project in detail.\n",
        "\n",
        "https://github.com/BintaSOW1/Reinforcement-learning-for-healthcare-applications - Healthcare application for optimizaing treatment strategies for patients with sepsis in ICU\n",
        "\n",
        "RL is used here as a solution to a sequential decison making problem where an agent recommends treatments based on patient condition. The project uses Q-learning to estimate the value of a treatment action in a given patient state and it trains a policy on historical ICU data to maximize long term health. The dataset is from MIMIC-III which is a large public ICU dataset. This was implemented to best catch the sequential and delayed nature of medical effects, finding the most optimal treatment for long term while sacrificing a little in the short term. This model is able to personalize treatment strategies based on patient specific features as well."
      ]
    },
    {
      "cell_type": "markdown",
      "metadata": {
        "id": "bxg003iyWDGx"
      },
      "source": [
        "Task 5 (30 points): For this task use the MovieLens 100k dataset\n",
        "(https://grouplens.org/datasets/movielens/100k/)\n",
        "Perform the necessary data cleaning, EDA and conversion to User-item matrix.\n",
        "Implement any 2 collaborative filtering recommendation systems (RecSys) algorithms covered\n",
        "in class (Matrix Factorization, Alternating Least Squares, NCF etc.) and compare their\n",
        "performance for any 2-evaluation metrics used for RecSys. You may read literature to find out\n",
        "which evaluation metrics are used for RecSys. Cite all your research.\n",
        "\n",
        "https://towardsdatascience.com/what-are-rmse-and-mae-e405ce230383/\n",
        "https://medium.com/@m_n_malaeb/recall-and-precision-at-k-for-recommender-systems-618483226c54\n"
      ]
    },
    {
      "cell_type": "code",
      "execution_count": null,
      "metadata": {
        "id": "k_B2_OFFWDGx"
      },
      "outputs": [],
      "source": [
        "import pandas as pd\n",
        "\n",
        "# Load ratings data\n",
        "ratings = pd.read_csv(\"u.data\", sep=\"\\t\", names=[\"user_id\", \"item_id\", \"rating\", \"timestamp\"])\n",
        "ratings.drop(\"timestamp\", axis=1, inplace=True)\n",
        "\n",
        "# Load movies data\n",
        "movies = pd.read_csv(\"u.item\", sep=\"|\", encoding=\"latin-1\", header=None, usecols=[0, 1],\n",
        "                     names=[\"item_id\", \"title\"])\n",
        "\n",
        "# Merge ratings with movie titles\n",
        "ratings = ratings.merge(movies, on=\"item_id\")\n"
      ]
    },
    {
      "cell_type": "code",
      "execution_count": null,
      "metadata": {
        "id": "Lg6xvD7-WDGy",
        "outputId": "a0388418-cab5-49b7-b272-d90ce2dadbd4"
      },
      "outputs": [
        {
          "name": "stdout",
          "output_type": "stream",
          "text": [
            "Number of users: 943\n",
            "Number of movies: 1682\n"
          ]
        },
        {
          "data": {
            "image/png": "[encoded data removed]",
            "text/plain": [
              "<Figure size 640x480 with 1 Axes>"
            ]
          },
          "metadata": {},
          "output_type": "display_data"
        }
      ],
      "source": [
        "import matplotlib.pyplot as plt\n",
        "\n",
        "# Unique users/movies\n",
        "num_users = ratings['user_id'].nunique()\n",
        "num_movies = ratings['item_id'].nunique()\n",
        "print(f\"Number of users: {num_users}\")\n",
        "print(f\"Number of movies: {num_movies}\")\n",
        "\n",
        "# Plot findings\n",
        "ratings['rating'].value_counts().sort_index().plot(kind='bar', title=\"Rating Distribution\")\n",
        "plt.xlabel(\"Rating\")\n",
        "plt.ylabel(\"Frequency\")\n",
        "plt.show()\n"
      ]
    },
    {
      "cell_type": "code",
      "execution_count": null,
      "metadata": {
        "id": "3ONJTYjxWDGy"
      },
      "outputs": [],
      "source": [
        "from scipy.sparse import csr_matrix\n",
        "\n",
        "user_item_matrix = ratings.pivot_table(index='user_id', columns='item_id', values='rating')\n",
        "user_item_matrix.fillna(0, inplace=True)\n",
        "\n",
        "# sparse matrix\n",
        "interaction_matrix = csr_matrix(user_item_matrix.values)\n"
      ]
    },
    {
      "cell_type": "code",
      "execution_count": null,
      "metadata": {
        "id": "TzOzkg0sWDGy",
        "outputId": "dd87545e-8f2b-472b-d4b9-20a977007c7a"
      },
      "outputs": [
        {
          "name": "stdout",
          "output_type": "stream",
          "text": [
            "Evaluating RMSE, MAE of algorithm SVD on 5 split(s).\n",
            "\n",
            "                  Fold 1  Fold 2  Fold 3  Fold 4  Fold 5  Mean    Std     \n",
            "RMSE (testset)    0.9255  0.9353  0.9353  0.9363  0.9426  0.9350  0.0055  \n",
            "MAE (testset)     0.7323  0.7326  0.7373  0.7389  0.7430  0.7368  0.0040  \n",
            "Fit time          0.79    0.86    0.83    0.79    0.84    0.82    0.03    \n",
            "Test time         0.13    0.08    0.07    0.13    0.07    0.10    0.03    \n",
            "SVD Evaluation Metrics:\n",
            "Average RMSE: 0.9350\n",
            "Average MAE: 0.7368\n"
          ]
        }
      ],
      "source": [
        "from surprise import SVD, Dataset, Reader\n",
        "from surprise.model_selection import cross_validate\n",
        "\n",
        "# Prepare data\n",
        "reader = Reader(rating_scale=(1, 5))\n",
        "data = Dataset.load_from_df(ratings[[\"user_id\", \"item_id\", \"rating\"]], reader)\n",
        "\n",
        "# SVD model using cross-validation\n",
        "svd = SVD()\n",
        "cv_results = cross_validate(svd, data, measures=[\"RMSE\", \"MAE\"], cv=5, verbose=True)\n",
        "\n",
        "# Display metrics\n",
        "print(\"SVD Evaluation Metrics:\")\n",
        "print(f\"Average RMSE: {sum(cv_results['test_rmse'])/len(cv_results['test_rmse']):.4f}\")\n",
        "print(f\"Average MAE: {sum(cv_results['test_mae'])/len(cv_results['test_mae']):.4f}\")\n"
      ]
    },
    {
      "cell_type": "code",
      "execution_count": null,
      "metadata": {
        "id": "PVV9v5g8WDGy",
        "outputId": "97efbedb-f996-49cc-d84c-ca2567d813fe"
      },
      "outputs": [
        {
          "name": "stderr",
          "output_type": "stream",
          "text": [
            "100%|██████████| 15/15 [00:00<00:00, 26.03it/s]\n",
            "100%|██████████| 1635/1635 [00:00<00:00, 9207.14it/s]"
          ]
        },
        {
          "name": "stdout",
          "output_type": "stream",
          "text": [
            "ALS Precision@10: 0.7541\n"
          ]
        },
        {
          "name": "stderr",
          "output_type": "stream",
          "text": [
            "\n"
          ]
        }
      ],
      "source": [
        "import numpy as np\n",
        "import scipy.sparse as sp\n",
        "from implicit.als import AlternatingLeastSquares\n",
        "from implicit.evaluation import precision_at_k\n",
        "from sklearn.model_selection import train_test_split\n",
        "\n",
        "ratings['implicit_rating'] = 1\n",
        "\n",
        "# Create an item-user matrix\n",
        "item_user_matrix = ratings.pivot(index='item_id', columns='user_id', values='implicit_rating').fillna(0)\n",
        "sparse_item_user = sp.csr_matrix(item_user_matrix.values)\n",
        "\n",
        "n_users = sparse_item_user.shape[1]\n",
        "train_user_indices, test_user_indices = train_test_split(np.arange(n_users), test_size=0.2, random_state=42)\n",
        "\n",
        "train_user_items = sparse_item_user[:, train_user_indices]\n",
        "test_user_items = sparse_item_user[:, test_user_indices]\n",
        "\n",
        "# Train ALS on training data\n",
        "als_model = AlternatingLeastSquares(factors=20, regularization=0.1, iterations=15)\n",
        "als_model.fit(train_user_items)\n",
        "\n",
        "# Evaluate using Precision@10\n",
        "precision = precision_at_k(als_model, test_user_items, train_user_items, K=10)\n",
        "print(f\"ALS Precision@10: {precision:.4f}\")\n"
      ]
    }
  ],
  "metadata": {
    "kernelspec": {
      "display_name": "Python 3",
      "language": "python",
      "name": "python3"
    },
    "language_info": {
      "codemirror_mode": {
        "name": "ipython",
        "version": 3
      },
      "file_extension": ".py",
      "mimetype": "text/x-python",
      "name": "python",
      "nbconvert_exporter": "python",
      "pygments_lexer": "ipython3",
      "version": "3.11.9"
    },
    "colab": {
      "provenance": [],
      "include_colab_link": true
    }
  },
  "nbformat": 4,
  "nbformat_minor": 0
}