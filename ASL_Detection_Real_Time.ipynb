{
  "cells": [
    {
      "cell_type": "markdown",
      "metadata": {
        "id": "view-in-github",
        "colab_type": "text"
      },
      "source": [
        "<a href=\"https://colab.research.google.com/github/ANS1514/Projects_in_AI-ML/blob/main/ASL_Detection_Real_Time.ipynb\" target=\"_parent\"><img src=\"https://colab.research.google.com/assets/colab-badge.svg\" alt=\"Open In Colab\"/></a>"
      ]
    },
    {
      "cell_type": "code",
      "execution_count": 2,
      "id": "155449bc",
      "metadata": {
        "colab": {
          "base_uri": "https://localhost:8080/"
        },
        "id": "155449bc",
        "outputId": "30785d30-e89e-42ca-a1e2-3fc2707765ac"
      },
      "outputs": [
        {
          "output_type": "stream",
          "name": "stdout",
          "text": [
            "cuda\n"
          ]
        }
      ],
      "source": [
        "import cv2\n",
        "import numpy as np\n",
        "import pandas as pd\n",
        "import os\n",
        "import ast\n",
        "import time\n",
        "import torch\n",
        "import torchvision.transforms as T\n",
        "from torch.utils.data import Dataset, DataLoader\n",
        "import torch.nn as nn\n",
        "import torch.optim as optim, torch.nn.functional as F\n",
        "import torchvision.models\n",
        "from torch.cuda.amp import GradScaler, autocast\n",
        "from sklearn.model_selection import train_test_split\n",
        "from sklearn.metrics import classification_report, confusion_matrix\n",
        "import seaborn as sns\n",
        "import matplotlib.pyplot as plt\n",
        "from PIL import Image\n",
        "from tqdm import tqdm\n",
        "from pathlib import Path\n",
        "import torch.nn as nn, torchvision.models as tv\n",
        "import ast\n",
        "from collections import defaultdict\n",
        "\n",
        "device = torch.device('cuda' if torch.cuda.is_available() else 'cpu')\n",
        "print(device)"
      ]
    },
    {
      "cell_type": "code",
      "source": [
        "!nvidia-smi"
      ],
      "metadata": {
        "colab": {
          "base_uri": "https://localhost:8080/"
        },
        "id": "bnzKbCpAZbnd",
        "outputId": "8a82e0de-2b32-4e8c-8ea8-156f1bcca6ab"
      },
      "id": "bnzKbCpAZbnd",
      "execution_count": 3,
      "outputs": [
        {
          "output_type": "stream",
          "name": "stdout",
          "text": [
            "Thu Apr 24 03:13:30 2025       \n",
            "+-----------------------------------------------------------------------------------------+\n",
            "| NVIDIA-SMI 550.54.15              Driver Version: 550.54.15      CUDA Version: 12.4     |\n",
            "|-----------------------------------------+------------------------+----------------------+\n",
            "| GPU  Name                 Persistence-M | Bus-Id          Disp.A | Volatile Uncorr. ECC |\n",
            "| Fan  Temp   Perf          Pwr:Usage/Cap |           Memory-Usage | GPU-Util  Compute M. |\n",
            "|                                         |                        |               MIG M. |\n",
            "|=========================================+========================+======================|\n",
            "|   0  NVIDIA A100-SXM4-40GB          Off |   00000000:00:04.0 Off |                    0 |\n",
            "| N/A   30C    P0             47W /  400W |       5MiB /  40960MiB |      0%      Default |\n",
            "|                                         |                        |             Disabled |\n",
            "+-----------------------------------------+------------------------+----------------------+\n",
            "                                                                                         \n",
            "+-----------------------------------------------------------------------------------------+\n",
            "| Processes:                                                                              |\n",
            "|  GPU   GI   CI        PID   Type   Process name                              GPU Memory |\n",
            "|        ID   ID                                                               Usage      |\n",
            "|=========================================================================================|\n",
            "|  No running processes found                                                             |\n",
            "+-----------------------------------------------------------------------------------------+\n"
          ]
        }
      ]
    },
    {
      "cell_type": "code",
      "source": [
        "from google.colab import drive\n",
        "drive.mount('/content/drive')"
      ],
      "metadata": {
        "colab": {
          "base_uri": "https://localhost:8080/"
        },
        "id": "naRbidmbtXh_",
        "outputId": "3b8e05b2-0102-4d07-b9c8-2f77331be606"
      },
      "id": "naRbidmbtXh_",
      "execution_count": 4,
      "outputs": [
        {
          "output_type": "stream",
          "name": "stdout",
          "text": [
            "Mounted at /content/drive\n"
          ]
        }
      ]
    },
    {
      "cell_type": "code",
      "source": [
        "directories = [\"/content/drive/MyDrive/asl_dataset\", \"/content/drive/MyDrive/asl_alphabet_large\"]\n",
        "data = []\n",
        "for path in directories:\n",
        "    for entry in os.scandir(path):\n",
        "        if not entry.is_dir():\n",
        "            continue\n",
        "        label = entry.name.lower()\n",
        "        for img in os.scandir(entry.path):\n",
        "            if img.name.lower().endswith((\".jpg\", \".jpeg\")):\n",
        "                data.append({\"image\": img.path, \"label\": label})\n",
        "\n",
        "print(f\"Found {len(data)} images across {len({d['label'] for d in data})} labels.\")"
      ],
      "metadata": {
        "colab": {
          "base_uri": "https://localhost:8080/"
        },
        "id": "t2QQiZZOX967",
        "outputId": "2750c9d4-1516-4bb9-fd6d-e1b80a1fa13c"
      },
      "id": "t2QQiZZOX967",
      "execution_count": 6,
      "outputs": [
        {
          "output_type": "stream",
          "name": "stdout",
          "text": [
            "Found 89522 images across 39 labels.\n"
          ]
        }
      ]
    },
    {
      "cell_type": "code",
      "source": [
        "saved_df = pd.read_parquet('/content/drive/MyDrive/aslData.csv')\n",
        "df = pd.DataFrame(data)\n",
        "image_df = pd.DataFrame(data)"
      ],
      "metadata": {
        "id": "TCoWnmpXtUQ4"
      },
      "id": "TCoWnmpXtUQ4",
      "execution_count": 7,
      "outputs": []
    },
    {
      "cell_type": "code",
      "source": [
        "print(image_df.head)"
      ],
      "metadata": {
        "colab": {
          "base_uri": "https://localhost:8080/"
        },
        "id": "7ZESZhIHZTeX",
        "outputId": "279fa5bd-643d-4b81-f3e3-1d3c02853a86"
      },
      "id": "7ZESZhIHZTeX",
      "execution_count": 8,
      "outputs": [
        {
          "output_type": "stream",
          "name": "stdout",
          "text": [
            "<bound method NDFrame.head of                                                    image label\n",
            "0      /content/drive/MyDrive/asl_dataset/y/hand1_y_d...     y\n",
            "1      /content/drive/MyDrive/asl_dataset/y/hand1_y_b...     y\n",
            "2      /content/drive/MyDrive/asl_dataset/y/hand1_y_d...     y\n",
            "3      /content/drive/MyDrive/asl_dataset/y/hand1_y_b...     y\n",
            "4      /content/drive/MyDrive/asl_dataset/y/hand1_y_l...     y\n",
            "...                                                  ...   ...\n",
            "89517  /content/drive/MyDrive/asl_alphabet_large/G/G1...     g\n",
            "89518  /content/drive/MyDrive/asl_alphabet_large/G/G1...     g\n",
            "89519  /content/drive/MyDrive/asl_alphabet_large/G/G1...     g\n",
            "89520  /content/drive/MyDrive/asl_alphabet_large/G/G1...     g\n",
            "89521  /content/drive/MyDrive/asl_alphabet_large/G/G1...     g\n",
            "\n",
            "[89522 rows x 2 columns]>\n"
          ]
        }
      ]
    },
    {
      "cell_type": "code",
      "source": [
        "!pip install mediapipe\n",
        "import mediapipe as mp\n",
        "import threading\n",
        "from concurrent.futures import ThreadPoolExecutor\n",
        "\n",
        "BaseOptions = mp.tasks.BaseOptions\n",
        "HandLandmarker = mp.tasks.vision.HandLandmarker\n",
        "HandLandmarkerOptions = mp.tasks.vision.HandLandmarkerOptions\n",
        "VisionRunningMode = mp.tasks.vision.RunningMode"
      ],
      "metadata": {
        "colab": {
          "base_uri": "https://localhost:8080/"
        },
        "id": "Aw49UD76rSiZ",
        "outputId": "f35d39e2-8d24-4a8f-91db-cb7160984c36"
      },
      "id": "Aw49UD76rSiZ",
      "execution_count": 27,
      "outputs": [
        {
          "output_type": "stream",
          "name": "stdout",
          "text": [
            "Collecting mediapipe\n",
            "  Downloading mediapipe-0.10.21-cp311-cp311-manylinux_2_28_x86_64.whl.metadata (9.7 kB)\n",
            "Requirement already satisfied: absl-py in /usr/local/lib/python3.11/dist-packages (from mediapipe) (1.4.0)\n",
            "Requirement already satisfied: attrs>=19.1.0 in /usr/local/lib/python3.11/dist-packages (from mediapipe) (25.3.0)\n",
            "Requirement already satisfied: flatbuffers>=2.0 in /usr/local/lib/python3.11/dist-packages (from mediapipe) (25.2.10)\n",
            "Requirement already satisfied: jax in /usr/local/lib/python3.11/dist-packages (from mediapipe) (0.5.2)\n",
            "Requirement already satisfied: jaxlib in /usr/local/lib/python3.11/dist-packages (from mediapipe) (0.5.1)\n",
            "Requirement already satisfied: matplotlib in /usr/local/lib/python3.11/dist-packages (from mediapipe) (3.10.0)\n",
            "Collecting numpy<2 (from mediapipe)\n",
            "  Downloading numpy-1.26.4-cp311-cp311-manylinux_2_17_x86_64.manylinux2014_x86_64.whl.metadata (61 kB)\n",
            "\u001b[2K     \u001b[90m━━━━━━━━━━━━━━━━━━━━━━━━━━━━━━━━━━━━━━━━\u001b[0m \u001b[32m61.0/61.0 kB\u001b[0m \u001b[31m2.8 MB/s\u001b[0m eta \u001b[36m0:00:00\u001b[0m\n",
            "\u001b[?25hRequirement already satisfied: opencv-contrib-python in /usr/local/lib/python3.11/dist-packages (from mediapipe) (4.11.0.86)\n",
            "Collecting protobuf<5,>=4.25.3 (from mediapipe)\n",
            "  Downloading protobuf-4.25.7-cp37-abi3-manylinux2014_x86_64.whl.metadata (541 bytes)\n",
            "Collecting sounddevice>=0.4.4 (from mediapipe)\n",
            "  Downloading sounddevice-0.5.1-py3-none-any.whl.metadata (1.4 kB)\n",
            "Requirement already satisfied: sentencepiece in /usr/local/lib/python3.11/dist-packages (from mediapipe) (0.2.0)\n",
            "Requirement already satisfied: CFFI>=1.0 in /usr/local/lib/python3.11/dist-packages (from sounddevice>=0.4.4->mediapipe) (1.17.1)\n",
            "Requirement already satisfied: ml_dtypes>=0.4.0 in /usr/local/lib/python3.11/dist-packages (from jax->mediapipe) (0.4.1)\n",
            "Requirement already satisfied: opt_einsum in /usr/local/lib/python3.11/dist-packages (from jax->mediapipe) (3.4.0)\n",
            "Requirement already satisfied: scipy>=1.11.1 in /usr/local/lib/python3.11/dist-packages (from jax->mediapipe) (1.14.1)\n",
            "Requirement already satisfied: contourpy>=1.0.1 in /usr/local/lib/python3.11/dist-packages (from matplotlib->mediapipe) (1.3.2)\n",
            "Requirement already satisfied: cycler>=0.10 in /usr/local/lib/python3.11/dist-packages (from matplotlib->mediapipe) (0.12.1)\n",
            "Requirement already satisfied: fonttools>=4.22.0 in /usr/local/lib/python3.11/dist-packages (from matplotlib->mediapipe) (4.57.0)\n",
            "Requirement already satisfied: kiwisolver>=1.3.1 in /usr/local/lib/python3.11/dist-packages (from matplotlib->mediapipe) (1.4.8)\n",
            "Requirement already satisfied: packaging>=20.0 in /usr/local/lib/python3.11/dist-packages (from matplotlib->mediapipe) (24.2)\n",
            "Requirement already satisfied: pillow>=8 in /usr/local/lib/python3.11/dist-packages (from matplotlib->mediapipe) (11.1.0)\n",
            "Requirement already satisfied: pyparsing>=2.3.1 in /usr/local/lib/python3.11/dist-packages (from matplotlib->mediapipe) (3.2.3)\n",
            "Requirement already satisfied: python-dateutil>=2.7 in /usr/local/lib/python3.11/dist-packages (from matplotlib->mediapipe) (2.8.2)\n",
            "Requirement already satisfied: pycparser in /usr/local/lib/python3.11/dist-packages (from CFFI>=1.0->sounddevice>=0.4.4->mediapipe) (2.22)\n",
            "Requirement already satisfied: six>=1.5 in /usr/local/lib/python3.11/dist-packages (from python-dateutil>=2.7->matplotlib->mediapipe) (1.17.0)\n",
            "Downloading mediapipe-0.10.21-cp311-cp311-manylinux_2_28_x86_64.whl (35.6 MB)\n",
            "\u001b[2K   \u001b[90m━━━━━━━━━━━━━━━━━━━━━━━━━━━━━━━━━━━━━━━━\u001b[0m \u001b[32m35.6/35.6 MB\u001b[0m \u001b[31m62.8 MB/s\u001b[0m eta \u001b[36m0:00:00\u001b[0m\n",
            "\u001b[?25hDownloading numpy-1.26.4-cp311-cp311-manylinux_2_17_x86_64.manylinux2014_x86_64.whl (18.3 MB)\n",
            "\u001b[2K   \u001b[90m━━━━━━━━━━━━━━━━━━━━━━━━━━━━━━━━━━━━━━━━\u001b[0m \u001b[32m18.3/18.3 MB\u001b[0m \u001b[31m88.7 MB/s\u001b[0m eta \u001b[36m0:00:00\u001b[0m\n",
            "\u001b[?25hDownloading protobuf-4.25.7-cp37-abi3-manylinux2014_x86_64.whl (294 kB)\n",
            "\u001b[2K   \u001b[90m━━━━━━━━━━━━━━━━━━━━━━━━━━━━━━━━━━━━━━━━\u001b[0m \u001b[32m294.6/294.6 kB\u001b[0m \u001b[31m29.0 MB/s\u001b[0m eta \u001b[36m0:00:00\u001b[0m\n",
            "\u001b[?25hDownloading sounddevice-0.5.1-py3-none-any.whl (32 kB)\n",
            "Installing collected packages: protobuf, numpy, sounddevice, mediapipe\n",
            "  Attempting uninstall: protobuf\n",
            "    Found existing installation: protobuf 5.29.4\n",
            "    Uninstalling protobuf-5.29.4:\n",
            "      Successfully uninstalled protobuf-5.29.4\n",
            "  Attempting uninstall: numpy\n",
            "    Found existing installation: numpy 2.0.2\n",
            "    Uninstalling numpy-2.0.2:\n",
            "      Successfully uninstalled numpy-2.0.2\n",
            "\u001b[31mERROR: pip's dependency resolver does not currently take into account all the packages that are installed. This behaviour is the source of the following dependency conflicts.\n",
            "ydf 0.11.0 requires protobuf<6.0.0,>=5.29.1, but you have protobuf 4.25.7 which is incompatible.\n",
            "thinc 8.3.6 requires numpy<3.0.0,>=2.0.0, but you have numpy 1.26.4 which is incompatible.\n",
            "grpcio-status 1.71.0 requires protobuf<6.0dev,>=5.26.1, but you have protobuf 4.25.7 which is incompatible.\u001b[0m\u001b[31m\n",
            "\u001b[0mSuccessfully installed mediapipe-0.10.21 numpy-1.26.4 protobuf-4.25.7 sounddevice-0.5.1\n"
          ]
        }
      ]
    },
    {
      "cell_type": "code",
      "source": [
        "# threaded processing of hand keypoint data to decrease the runtime\n",
        "thread_local = threading.local()\n",
        "\n",
        "def get_hands():\n",
        "    if not hasattr(thread_local, \"hands\"):\n",
        "        thread_local.hands = mp.solutions.hands.Hands(\n",
        "            static_image_mode=True,\n",
        "            max_num_hands=1,\n",
        "            min_detection_confidence=0.7\n",
        "        )\n",
        "    return thread_local.hands\n",
        "\n",
        "def process_one(args):\n",
        "    img_path, label = args\n",
        "    img = cv2.imread(img_path)\n",
        "    if img is None:\n",
        "        return None\n",
        "\n",
        "    h, w = img.shape[:2]\n",
        "    small = cv2.resize(img, (w//4, h//4), interpolation=cv2.INTER_LINEAR)\n",
        "\n",
        "    results = get_hands().process(cv2.cvtColor(small, cv2.COLOR_BGR2RGB))\n",
        "    if not results.multi_hand_landmarks:\n",
        "        return None\n",
        "\n",
        "    kp = np.array([\n",
        "        [lm.x, lm.y, lm.z]\n",
        "        for lm in results.multi_hand_landmarks[0].landmark\n",
        "    ]).flatten()\n",
        "    return {\"keypoints\": kp, \"label\": label}\n",
        "\n",
        "args = list(zip(df['image'], df['label']))\n",
        "records = []\n",
        "\n",
        "with ThreadPoolExecutor(max_workers=10) as exe:\n",
        "    for rec in tqdm(exe.map(process_one, args), total=len(args),\n",
        "                    desc=\"extracting keypoints\"):\n",
        "        if rec:\n",
        "            records.append(rec)"
      ],
      "metadata": {
        "id": "4G0ycXnVuyYH"
      },
      "id": "4G0ycXnVuyYH",
      "execution_count": null,
      "outputs": []
    },
    {
      "cell_type": "code",
      "source": [
        "# Intial checking of the data and saving of the dataframe to avoid finding the keypoints again\n",
        "augmented_df = pd.DataFrame(records)\n",
        "augmented_df.head()"
      ],
      "metadata": {
        "id": "84xxYf2fU92R"
      },
      "id": "84xxYf2fU92R",
      "execution_count": null,
      "outputs": []
    },
    {
      "cell_type": "code",
      "source": [
        "augmented_df = saved_df"
      ],
      "metadata": {
        "id": "wip-HfKlR236"
      },
      "id": "wip-HfKlR236",
      "execution_count": 15,
      "outputs": []
    },
    {
      "cell_type": "code",
      "source": [
        "augmented_df.to_parquet('/content/drive/MyDrive/aslData.csv')"
      ],
      "metadata": {
        "id": "RmmmiiklxsLJ"
      },
      "id": "RmmmiiklxsLJ",
      "execution_count": null,
      "outputs": []
    },
    {
      "cell_type": "code",
      "source": [
        "# Mirror the hand data in order to fix the bias of handedness\n",
        "def mirror_keypoints(kp: np.ndarray) -> np.ndarray:\n",
        "    kp_mirrored = kp.copy()\n",
        "    kp_mirrored[0::3] = 1.0 - kp_mirrored[0::3]\n",
        "    return kp_mirrored\n",
        "\n",
        "df_mirror = df.copy()\n",
        "df_mirror[\"keypoints\"] = df_mirror[\"keypoints\"].apply(mirror_keypoints)\n",
        "\n",
        "df_augmented = pd.concat([df, df_mirror], ignore_index=True)\n",
        "df_augmented = df_augmented.sample(frac=1, random_state=42).reset_index(drop=True)\n",
        "\n",
        "print(f\"Dataset size grew from {len(df)} → {len(df_augmented)}\")"
      ],
      "metadata": {
        "colab": {
          "base_uri": "https://localhost:8080/"
        },
        "id": "ajZQPoEcAmHN",
        "outputId": "77aa60cd-6033-49f8-f300-bd73359f4b4e"
      },
      "id": "ajZQPoEcAmHN",
      "execution_count": 16,
      "outputs": [
        {
          "output_type": "stream",
          "name": "stdout",
          "text": [
            "Dataset size grew from 62185 → 124370\n"
          ]
        }
      ]
    },
    {
      "cell_type": "code",
      "source": [
        "# Check the label sizes to detect and class imbalances\n",
        "print(augmented_df['label'].value_counts())\n",
        "df = augmented_df.copy()\n",
        "df.head()"
      ],
      "metadata": {
        "colab": {
          "base_uri": "https://localhost:8080/",
          "height": 918
        },
        "id": "GwAf97vKcGSb",
        "outputId": "1ffa2d73-ec2d-4c67-8a8b-b775e3370f2a"
      },
      "id": "GwAf97vKcGSb",
      "execution_count": 17,
      "outputs": [
        {
          "output_type": "stream",
          "name": "stdout",
          "text": [
            "label\n",
            "f          2797\n",
            "k          2659\n",
            "y          2610\n",
            "v          2597\n",
            "j          2581\n",
            "u          2510\n",
            "w          2492\n",
            "d          2476\n",
            "r          2473\n",
            "l          2473\n",
            "s          2469\n",
            "h          2413\n",
            "t          2374\n",
            "i          2329\n",
            "z          2326\n",
            "x          2296\n",
            "g          2276\n",
            "e          2173\n",
            "o          2106\n",
            "q          2052\n",
            "p          2043\n",
            "a          1973\n",
            "b          1940\n",
            "c          1780\n",
            "space      1668\n",
            "del        1545\n",
            "m          1122\n",
            "n           996\n",
            "3            70\n",
            "9            70\n",
            "5            70\n",
            "8            69\n",
            "4            68\n",
            "1            67\n",
            "7            65\n",
            "2            64\n",
            "6            60\n",
            "0            27\n",
            "nothing       6\n",
            "Name: count, dtype: int64\n"
          ]
        },
        {
          "output_type": "execute_result",
          "data": {
            "text/plain": [
              "                                           keypoints label\n",
              "0  [0.6746155023574829, 0.7391703128814697, 2.801...     y\n",
              "1  [0.7433315515518188, 0.6687635779380798, 6.522...     y\n",
              "2  [0.5616661310195923, 0.7963610291481018, 2.755...     y\n",
              "3  [0.7209296226501465, 0.6924290657043457, 1.031...     y\n",
              "4  [0.7211493253707886, 0.6945247650146484, 9.574...     y"
            ],
            "text/html": [
              "\n",
              "  <div id=\"df-f234d209-ca5a-4349-9629-4c8fc3b56063\" class=\"colab-df-container\">\n",
              "    <div>\n",
              "<style scoped>\n",
              "    .dataframe tbody tr th:only-of-type {\n",
              "        vertical-align: middle;\n",
              "    }\n",
              "\n",
              "    .dataframe tbody tr th {\n",
              "        vertical-align: top;\n",
              "    }\n",
              "\n",
              "    .dataframe thead th {\n",
              "        text-align: right;\n",
              "    }\n",
              "</style>\n",
              "<table border=\"1\" class=\"dataframe\">\n",
              "  <thead>\n",
              "    <tr style=\"text-align: right;\">\n",
              "      <th></th>\n",
              "      <th>keypoints</th>\n",
              "      <th>label</th>\n",
              "    </tr>\n",
              "  </thead>\n",
              "  <tbody>\n",
              "    <tr>\n",
              "      <th>0</th>\n",
              "      <td>[0.6746155023574829, 0.7391703128814697, 2.801...</td>\n",
              "      <td>y</td>\n",
              "    </tr>\n",
              "    <tr>\n",
              "      <th>1</th>\n",
              "      <td>[0.7433315515518188, 0.6687635779380798, 6.522...</td>\n",
              "      <td>y</td>\n",
              "    </tr>\n",
              "    <tr>\n",
              "      <th>2</th>\n",
              "      <td>[0.5616661310195923, 0.7963610291481018, 2.755...</td>\n",
              "      <td>y</td>\n",
              "    </tr>\n",
              "    <tr>\n",
              "      <th>3</th>\n",
              "      <td>[0.7209296226501465, 0.6924290657043457, 1.031...</td>\n",
              "      <td>y</td>\n",
              "    </tr>\n",
              "    <tr>\n",
              "      <th>4</th>\n",
              "      <td>[0.7211493253707886, 0.6945247650146484, 9.574...</td>\n",
              "      <td>y</td>\n",
              "    </tr>\n",
              "  </tbody>\n",
              "</table>\n",
              "</div>\n",
              "    <div class=\"colab-df-buttons\">\n",
              "\n",
              "  <div class=\"colab-df-container\">\n",
              "    <button class=\"colab-df-convert\" onclick=\"convertToInteractive('df-f234d209-ca5a-4349-9629-4c8fc3b56063')\"\n",
              "            title=\"Convert this dataframe to an interactive table.\"\n",
              "            style=\"display:none;\">\n",
              "\n",
              "  <svg xmlns=\"http://www.w3.org/2000/svg\" height=\"24px\" viewBox=\"0 -960 960 960\">\n",
              "    <path d=\"M120-120v-720h720v720H120Zm60-500h600v-160H180v160Zm220 220h160v-160H400v160Zm0 220h160v-160H400v160ZM180-400h160v-160H180v160Zm440 0h160v-160H620v160ZM180-180h160v-160H180v160Zm440 0h160v-160H620v160Z\"/>\n",
              "  </svg>\n",
              "    </button>\n",
              "\n",
              "  <style>\n",
              "    .colab-df-container {\n",
              "      display:flex;\n",
              "      gap: 12px;\n",
              "    }\n",
              "\n",
              "    .colab-df-convert {\n",
              "      background-color: #E8F0FE;\n",
              "      border: none;\n",
              "      border-radius: 50%;\n",
              "      cursor: pointer;\n",
              "      display: none;\n",
              "      fill: #1967D2;\n",
              "      height: 32px;\n",
              "      padding: 0 0 0 0;\n",
              "      width: 32px;\n",
              "    }\n",
              "\n",
              "    .colab-df-convert:hover {\n",
              "      background-color: #E2EBFA;\n",
              "      box-shadow: 0px 1px 2px rgba(60, 64, 67, 0.3), 0px 1px 3px 1px rgba(60, 64, 67, 0.15);\n",
              "      fill: #174EA6;\n",
              "    }\n",
              "\n",
              "    .colab-df-buttons div {\n",
              "      margin-bottom: 4px;\n",
              "    }\n",
              "\n",
              "    [theme=dark] .colab-df-convert {\n",
              "      background-color: #3B4455;\n",
              "      fill: #D2E3FC;\n",
              "    }\n",
              "\n",
              "    [theme=dark] .colab-df-convert:hover {\n",
              "      background-color: #434B5C;\n",
              "      box-shadow: 0px 1px 3px 1px rgba(0, 0, 0, 0.15);\n",
              "      filter: drop-shadow(0px 1px 2px rgba(0, 0, 0, 0.3));\n",
              "      fill: #FFFFFF;\n",
              "    }\n",
              "  </style>\n",
              "\n",
              "    <script>\n",
              "      const buttonEl =\n",
              "        document.querySelector('#df-f234d209-ca5a-4349-9629-4c8fc3b56063 button.colab-df-convert');\n",
              "      buttonEl.style.display =\n",
              "        google.colab.kernel.accessAllowed ? 'block' : 'none';\n",
              "\n",
              "      async function convertToInteractive(key) {\n",
              "        const element = document.querySelector('#df-f234d209-ca5a-4349-9629-4c8fc3b56063');\n",
              "        const dataTable =\n",
              "          await google.colab.kernel.invokeFunction('convertToInteractive',\n",
              "                                                    [key], {});\n",
              "        if (!dataTable) return;\n",
              "\n",
              "        const docLinkHtml = 'Like what you see? Visit the ' +\n",
              "          '<a target=\"_blank\" href=https://colab.research.google.com/notebooks/data_table.ipynb>data table notebook</a>'\n",
              "          + ' to learn more about interactive tables.';\n",
              "        element.innerHTML = '';\n",
              "        dataTable['output_type'] = 'display_data';\n",
              "        await google.colab.output.renderOutput(dataTable, element);\n",
              "        const docLink = document.createElement('div');\n",
              "        docLink.innerHTML = docLinkHtml;\n",
              "        element.appendChild(docLink);\n",
              "      }\n",
              "    </script>\n",
              "  </div>\n",
              "\n",
              "\n",
              "<div id=\"df-49b973d0-07b0-4a08-95a5-4e49e5bd1e90\">\n",
              "  <button class=\"colab-df-quickchart\" onclick=\"quickchart('df-49b973d0-07b0-4a08-95a5-4e49e5bd1e90')\"\n",
              "            title=\"Suggest charts\"\n",
              "            style=\"display:none;\">\n",
              "\n",
              "<svg xmlns=\"http://www.w3.org/2000/svg\" height=\"24px\"viewBox=\"0 0 24 24\"\n",
              "     width=\"24px\">\n",
              "    <g>\n",
              "        <path d=\"M19 3H5c-1.1 0-2 .9-2 2v14c0 1.1.9 2 2 2h14c1.1 0 2-.9 2-2V5c0-1.1-.9-2-2-2zM9 17H7v-7h2v7zm4 0h-2V7h2v10zm4 0h-2v-4h2v4z\"/>\n",
              "    </g>\n",
              "</svg>\n",
              "  </button>\n",
              "\n",
              "<style>\n",
              "  .colab-df-quickchart {\n",
              "      --bg-color: #E8F0FE;\n",
              "      --fill-color: #1967D2;\n",
              "      --hover-bg-color: #E2EBFA;\n",
              "      --hover-fill-color: #174EA6;\n",
              "      --disabled-fill-color: #AAA;\n",
              "      --disabled-bg-color: #DDD;\n",
              "  }\n",
              "\n",
              "  [theme=dark] .colab-df-quickchart {\n",
              "      --bg-color: #3B4455;\n",
              "      --fill-color: #D2E3FC;\n",
              "      --hover-bg-color: #434B5C;\n",
              "      --hover-fill-color: #FFFFFF;\n",
              "      --disabled-bg-color: #3B4455;\n",
              "      --disabled-fill-color: #666;\n",
              "  }\n",
              "\n",
              "  .colab-df-quickchart {\n",
              "    background-color: var(--bg-color);\n",
              "    border: none;\n",
              "    border-radius: 50%;\n",
              "    cursor: pointer;\n",
              "    display: none;\n",
              "    fill: var(--fill-color);\n",
              "    height: 32px;\n",
              "    padding: 0;\n",
              "    width: 32px;\n",
              "  }\n",
              "\n",
              "  .colab-df-quickchart:hover {\n",
              "    background-color: var(--hover-bg-color);\n",
              "    box-shadow: 0 1px 2px rgba(60, 64, 67, 0.3), 0 1px 3px 1px rgba(60, 64, 67, 0.15);\n",
              "    fill: var(--button-hover-fill-color);\n",
              "  }\n",
              "\n",
              "  .colab-df-quickchart-complete:disabled,\n",
              "  .colab-df-quickchart-complete:disabled:hover {\n",
              "    background-color: var(--disabled-bg-color);\n",
              "    fill: var(--disabled-fill-color);\n",
              "    box-shadow: none;\n",
              "  }\n",
              "\n",
              "  .colab-df-spinner {\n",
              "    border: 2px solid var(--fill-color);\n",
              "    border-color: transparent;\n",
              "    border-bottom-color: var(--fill-color);\n",
              "    animation:\n",
              "      spin 1s steps(1) infinite;\n",
              "  }\n",
              "\n",
              "  @keyframes spin {\n",
              "    0% {\n",
              "      border-color: transparent;\n",
              "      border-bottom-color: var(--fill-color);\n",
              "      border-left-color: var(--fill-color);\n",
              "    }\n",
              "    20% {\n",
              "      border-color: transparent;\n",
              "      border-left-color: var(--fill-color);\n",
              "      border-top-color: var(--fill-color);\n",
              "    }\n",
              "    30% {\n",
              "      border-color: transparent;\n",
              "      border-left-color: var(--fill-color);\n",
              "      border-top-color: var(--fill-color);\n",
              "      border-right-color: var(--fill-color);\n",
              "    }\n",
              "    40% {\n",
              "      border-color: transparent;\n",
              "      border-right-color: var(--fill-color);\n",
              "      border-top-color: var(--fill-color);\n",
              "    }\n",
              "    60% {\n",
              "      border-color: transparent;\n",
              "      border-right-color: var(--fill-color);\n",
              "    }\n",
              "    80% {\n",
              "      border-color: transparent;\n",
              "      border-right-color: var(--fill-color);\n",
              "      border-bottom-color: var(--fill-color);\n",
              "    }\n",
              "    90% {\n",
              "      border-color: transparent;\n",
              "      border-bottom-color: var(--fill-color);\n",
              "    }\n",
              "  }\n",
              "</style>\n",
              "\n",
              "  <script>\n",
              "    async function quickchart(key) {\n",
              "      const quickchartButtonEl =\n",
              "        document.querySelector('#' + key + ' button');\n",
              "      quickchartButtonEl.disabled = true;  // To prevent multiple clicks.\n",
              "      quickchartButtonEl.classList.add('colab-df-spinner');\n",
              "      try {\n",
              "        const charts = await google.colab.kernel.invokeFunction(\n",
              "            'suggestCharts', [key], {});\n",
              "      } catch (error) {\n",
              "        console.error('Error during call to suggestCharts:', error);\n",
              "      }\n",
              "      quickchartButtonEl.classList.remove('colab-df-spinner');\n",
              "      quickchartButtonEl.classList.add('colab-df-quickchart-complete');\n",
              "    }\n",
              "    (() => {\n",
              "      let quickchartButtonEl =\n",
              "        document.querySelector('#df-49b973d0-07b0-4a08-95a5-4e49e5bd1e90 button');\n",
              "      quickchartButtonEl.style.display =\n",
              "        google.colab.kernel.accessAllowed ? 'block' : 'none';\n",
              "    })();\n",
              "  </script>\n",
              "</div>\n",
              "\n",
              "    </div>\n",
              "  </div>\n"
            ],
            "application/vnd.google.colaboratory.intrinsic+json": {
              "type": "dataframe",
              "variable_name": "df",
              "summary": "{\n  \"name\": \"df\",\n  \"rows\": 62185,\n  \"fields\": [\n    {\n      \"column\": \"keypoints\",\n      \"properties\": {\n        \"dtype\": \"object\",\n        \"semantic_type\": \"\",\n        \"description\": \"\"\n      }\n    },\n    {\n      \"column\": \"label\",\n      \"properties\": {\n        \"dtype\": \"category\",\n        \"num_unique_values\": 39,\n        \"samples\": [\n          \"1\",\n          \"space\",\n          \"w\"\n        ],\n        \"semantic_type\": \"\",\n        \"description\": \"\"\n      }\n    }\n  ]\n}"
            }
          },
          "metadata": {},
          "execution_count": 17
        }
      ]
    },
    {
      "cell_type": "code",
      "source": [
        "# keep only labels that are a single character a–z for both the image dataset and keypoint dataset\n",
        "df_augmented = df_augmented[df_augmented['label'].str.match(r'^[a-z]$')]\n",
        "print(df_augmented['label'].value_counts())\n",
        "\n",
        "image_df = image_df[image_df['label'].str.match(r'^[a-z]$')]\n",
        "print(image_df['label'].value_counts())"
      ],
      "metadata": {
        "colab": {
          "base_uri": "https://localhost:8080/"
        },
        "id": "HdZejJEAYCX9",
        "outputId": "ab28c46d-23ca-4d42-9f44-304538543d83"
      },
      "id": "HdZejJEAYCX9",
      "execution_count": 18,
      "outputs": [
        {
          "output_type": "stream",
          "name": "stdout",
          "text": [
            "label\n",
            "f    5594\n",
            "k    5318\n",
            "y    5220\n",
            "v    5194\n",
            "j    5162\n",
            "u    5020\n",
            "w    4984\n",
            "d    4952\n",
            "r    4946\n",
            "l    4946\n",
            "s    4938\n",
            "h    4826\n",
            "t    4748\n",
            "i    4658\n",
            "z    4652\n",
            "x    4592\n",
            "g    4552\n",
            "e    4346\n",
            "o    4212\n",
            "q    4104\n",
            "p    4086\n",
            "a    3946\n",
            "b    3880\n",
            "c    3560\n",
            "m    2244\n",
            "n    1992\n",
            "Name: count, dtype: int64\n",
            "label\n",
            "z    3077\n",
            "y    3070\n",
            "x    3070\n",
            "u    3070\n",
            "w    3070\n",
            "v    3070\n",
            "r    3070\n",
            "q    3070\n",
            "s    3070\n",
            "p    3070\n",
            "i    3070\n",
            "n    3070\n",
            "o    3070\n",
            "m    3070\n",
            "l    3070\n",
            "h    3070\n",
            "j    3070\n",
            "k    3070\n",
            "d    3070\n",
            "g    3070\n",
            "f    3070\n",
            "e    3070\n",
            "b    3070\n",
            "c    3070\n",
            "a    3070\n",
            "t    3065\n",
            "Name: count, dtype: int64\n"
          ]
        }
      ]
    },
    {
      "cell_type": "code",
      "execution_count": 19,
      "id": "5573036e",
      "metadata": {
        "id": "5573036e"
      },
      "outputs": [],
      "source": [
        "# Dataset classes for easy implementation of models\n",
        "class HandImageDataset(Dataset):\n",
        "    def __init__(self, df, img_col='image', label='label', label_col='label_id', img_size=224):\n",
        "        self.df       = df.reset_index(drop=True)\n",
        "        self.img_col  = img_col\n",
        "        self.label = label\n",
        "        self.label_col= label_col\n",
        "        self.tf = T.Compose([\n",
        "            T.Resize((img_size, img_size)),\n",
        "            T.ToTensor(),\n",
        "            T.Normalize([0.485,0.456,0.406],\n",
        "                        [0.229,0.224,0.225])\n",
        "        ])\n",
        "    def __len__(self):\n",
        "        return len(self.df)\n",
        "    def __getitem__(self, idx):\n",
        "        row = self.df.loc[idx]\n",
        "        img = Image.open(row[self.img_col]).convert('RGB')\n",
        "        img = self.tf(img)\n",
        "        lbl = torch.tensor(row[self.label_col], dtype=torch.long)\n",
        "        return img, lbl\n",
        "\n",
        "class HandKeypointDataset(Dataset):\n",
        "    def __init__(self, df, kp_col='keypoints', label_col='label_id'):\n",
        "        self.kps    = df[kp_col].tolist()\n",
        "        self.labels = df[label_col].astype('int64').tolist()\n",
        "\n",
        "    def __len__(self):\n",
        "        return len(self.labels)\n",
        "\n",
        "    def __getitem__(self, idx):\n",
        "        kp_seq = torch.tensor(self.kps[idx], dtype=torch.float32).unsqueeze(0)\n",
        "        lbl    = torch.tensor(self.labels[idx], dtype=torch.long)\n",
        "        return kp_seq, lbl"
      ]
    },
    {
      "cell_type": "code",
      "execution_count": 20,
      "id": "d94ce12f",
      "metadata": {
        "id": "d94ce12f"
      },
      "outputs": [],
      "source": [
        "# CNN classifiers for images data\n",
        "class ResnetImageClassifier(nn.Module):\n",
        "    def __init__(self, n_classes):\n",
        "        super().__init__()\n",
        "        resnet = tv.resnet18(weights=tv.ResNet18_Weights.IMAGENET1K_V1)\n",
        "        self.backbone = nn.Sequential(*(list(resnet.children())[:-1]))\n",
        "        self.head     = nn.Linear(512, n_classes)\n",
        "\n",
        "    def forward(self, img, kp=None):\n",
        "        x = self.backbone(img)\n",
        "        x = x.view(x.size(0), -1)\n",
        "        return self.head(x)\n",
        "\n",
        "class AlexNetClassifier(nn.Module):\n",
        "    def __init__(self, num_classes):\n",
        "        super().__init__()\n",
        "        # load pretrained AlexNet\n",
        "        model = tv.alexnet(weights=tv.AlexNet_Weights.IMAGENET1K_V1)\n",
        "        # replace final classifier layer\n",
        "        in_feats = model.classifier[6].in_features\n",
        "        model.classifier[6] = nn.Linear(in_feats, num_classes)\n",
        "        self.net = model\n",
        "    def forward(self, x):\n",
        "        return self.net(x)\n",
        "\n",
        "# LSTM for keypoint detection (1 frame)\n",
        "class KeypointLSTM(nn.Module):\n",
        "    def __init__(self, dim=63, hidden=128, layers=2, n_classes=36):\n",
        "        super().__init__()\n",
        "        self.lstm = nn.LSTM(dim, hidden, num_layers=layers,\n",
        "                            batch_first=True, bidirectional=True)\n",
        "        self.classifier = nn.Linear(hidden*2, n_classes)\n",
        "\n",
        "    def forward(self, x):\n",
        "        out, _ = self.lstm(x)\n",
        "        feat   = out.mean(1)\n",
        "        return self.classifier(feat)"
      ]
    },
    {
      "cell_type": "code",
      "source": [
        "from sklearn.metrics import (\n",
        "    classification_report, confusion_matrix,\n",
        "    matthews_corrcoef, log_loss, roc_auc_score,\n",
        ")"
      ],
      "metadata": {
        "id": "kO46STY_Ge9M"
      },
      "id": "kO46STY_Ge9M",
      "execution_count": 21,
      "outputs": []
    },
    {
      "cell_type": "code",
      "source": [
        "def run_epoch(loader, train=True):\n",
        "    model.train() if train else model.eval()\n",
        "    total_loss, correct = 0.0, 0\n",
        "    with torch.set_grad_enabled(train):\n",
        "        for kps, labels in tqdm(loader, leave=False):\n",
        "            kps, labels = kps.to(device), labels.to(device)\n",
        "            if train: optimizer.zero_grad()\n",
        "            with torch.amp.autocast(device_type='cuda'):\n",
        "                logits = model(kps)\n",
        "                loss   = F.cross_entropy(logits, labels)\n",
        "            if train:\n",
        "                scaler.scale(loss).backward()\n",
        "                scaler.step(optimizer); scaler.update()\n",
        "            total_loss += loss.item()*labels.size(0)\n",
        "            correct    += (logits.argmax(1)==labels).sum().item()\n",
        "    avg_loss = total_loss/len(loader.dataset)\n",
        "    acc      = correct/len(loader.dataset)\n",
        "    return avg_loss, acc\n",
        "\n",
        "def eval_epoch(loader):\n",
        "    model.eval()\n",
        "    y_true, y_prob = [], []\n",
        "\n",
        "    with torch.no_grad(), torch.amp.autocast(device_type='cuda', enabled=torch.cuda.is_available()):\n",
        "        for kps, lbl in loader:\n",
        "            kps  = kps.to(device)\n",
        "            prob = F.softmax(model(kps), dim=1).cpu().numpy()\n",
        "            y_prob.append(prob)\n",
        "            y_true.append(lbl.numpy())\n",
        "\n",
        "    y_prob = np.concatenate(y_prob)\n",
        "    y_true = np.concatenate(y_true)\n",
        "    y_pred = y_prob.argmax(1)\n",
        "\n",
        "\n",
        "    metrics = {\n",
        "        \"loss\"            : log_loss(y_true, y_prob),\n",
        "        \"acc\"             : (y_pred == y_true).mean(),\n",
        "        \"mcc\"             : matthews_corrcoef    (y_true, y_pred),\n",
        "        \"roc_auc_macro\"   : roc_auc_score(\n",
        "                                np.eye(y_prob.shape[1])[y_true],\n",
        "                                y_prob, average=\"macro\",\n",
        "                                multi_class=\"ovr\"),\n",
        "    }\n",
        "    return metrics"
      ],
      "metadata": {
        "id": "wwrnwiX1TnUV"
      },
      "id": "wwrnwiX1TnUV",
      "execution_count": 22,
      "outputs": []
    },
    {
      "cell_type": "code",
      "source": [
        "df_augmented['label_id'] = df_augmented['label'].astype('category').cat.codes.astype('int64')\n",
        "image_df['label_id'] = image_df['label'].astype('category').cat.codes.astype('int64')\n",
        "NUM_CLASSES = df_augmented['label_id'].nunique()\n",
        "BATCH_SIZE = 2048\n",
        "EPOCHS = 100\n",
        "\n",
        "kp_train_df, kp_test_df = train_test_split(\n",
        "    df_augmented,\n",
        "    test_size=0.10,\n",
        "    stratify=df_augmented['label_id'],\n",
        "    random_state=42\n",
        ")\n",
        "\n",
        "\n",
        "img_train_df, img_test_df = train_test_split(\n",
        "    image_df,\n",
        "    test_size=0.10,\n",
        "    stratify=image_df['label_id'],\n",
        "    random_state=42\n",
        ")\n",
        "\n",
        "kp_train_ds = HandKeypointDataset(kp_train_df)\n",
        "kp_test_ds  = HandKeypointDataset(kp_test_df)\n",
        "kp_train_loader = DataLoader(kp_train_ds, BATCH_SIZE, shuffle=True,\n",
        "                             num_workers=10, pin_memory=torch.cuda.is_available())\n",
        "kp_test_loader  = DataLoader(kp_test_ds,  BATCH_SIZE, shuffle=False,\n",
        "                             num_workers=10, pin_memory=torch.cuda.is_available())\n",
        "\n",
        "img_train_ds = HandImageDataset(img_train_df)\n",
        "img_test_ds  = HandImageDataset(img_test_df)\n",
        "img_train_loader = DataLoader(img_train_ds, BATCH_SIZE, shuffle=True,\n",
        "                              num_workers=4)\n",
        "img_test_loader  = DataLoader(img_test_ds, BATCH_SIZE, shuffle=False,\n",
        "                              num_workers=4)"
      ],
      "metadata": {
        "id": "NJPzlW-kVRm9"
      },
      "id": "NJPzlW-kVRm9",
      "execution_count": 23,
      "outputs": []
    },
    {
      "cell_type": "code",
      "source": [
        "MODELS = {\n",
        "    # \"resnet18\": lambda n: ResnetImageClassifier(n),\n",
        "    # \"alexnet\" : lambda n: AlexNetClassifier(n),\n",
        "    \"lstm\" : lambda n: KeypointLSTM(dim=63, n_classes=n),\n",
        "}\n",
        "results  = {}\n",
        "histories = {}\n",
        "\n",
        "for name, make_model in MODELS.items():\n",
        "    if name == \"lstm\":\n",
        "        train_loader, test_loader = kp_train_loader, kp_test_loader\n",
        "    else:\n",
        "        train_loader, test_loader = img_train_loader, img_test_loader\n",
        "\n",
        "    model = make_model(NUM_CLASSES).to(device)\n",
        "    optimizer = torch.optim.AdamW(model.parameters(), lr=3e-4, weight_decay=1e-2)\n",
        "    scheduler = torch.optim.lr_scheduler.ReduceLROnPlateau(optimizer, 'min', patience=3)\n",
        "    scaler    = torch.amp.GradScaler()\n",
        "\n",
        "    best_acc   = 0.0\n",
        "    best_state = None\n",
        "\n",
        "    history = defaultdict(list)\n",
        "\n",
        "    for epoch in range(1, EPOCHS + 1):\n",
        "        tr_loss, tr_acc  = run_epoch(train_loader, train=True)\n",
        "        te_metrics       = eval_epoch(test_loader)\n",
        "        scheduler.step(te_metrics[\"loss\"])\n",
        "\n",
        "        # track performance\n",
        "        history[\"epoch\"].append(epoch)\n",
        "        history[\"train_loss\"].append(tr_loss)\n",
        "        history[\"train_acc\" ].append(tr_acc)\n",
        "        for k, v in te_metrics.items():\n",
        "            history[f\"test_{k}\"].append(v)\n",
        "\n",
        "        tqdm.write(f\"[{name}][{epoch:03}] \"\n",
        "                   f\"train‑loss {tr_loss:.4f} acc {tr_acc:.3f} | \"\n",
        "                   f\"test‑loss {te_metrics['loss']:.4f} acc {te_metrics['acc']:.3f}\")\n",
        "\n",
        "        # keep best\n",
        "        if te_metrics[\"acc\"] > best_acc:\n",
        "            best_acc   = te_metrics[\"acc\"]\n",
        "            best_state = {\n",
        "                \"model_state\": model.state_dict(),\n",
        "                \"optimizer\"  : optimizer.state_dict(),\n",
        "                \"epoch\"      : epoch,\n",
        "                \"metrics\"    : te_metrics,\n",
        "            }\n",
        "\n",
        "        scheduler.step(te_metrics['loss'])\n",
        "\n",
        "    results[name] = {\n",
        "        \"accuracy\"        : history[\"test_acc\"][-1],\n",
        "        \"log_loss\"        : history[\"test_loss\"][-1],\n",
        "        \"mcc\"             : history[\"test_mcc\"][-1],\n",
        "        \"roc_auc_macro\"   : history[\"test_roc_auc_macro\"][-1],\n",
        "    }\n",
        "    # save best model for easy real time implementation later\n",
        "    ckpt_path = os.path.join('/content/drive/MyDrive/ASL_models', f\"{name}_best.pth\")\n",
        "    torch.save(best_state, ckpt_path)\n",
        "    print(f\"Saved {name} best model\")\n",
        "\n",
        "    histories[name] = history\n",
        "    del model; torch.cuda.empty_cache()\n",
        "\n",
        "import pandas as pd\n",
        "pd.DataFrame(results).T.to_csv(\"model_results.csv\")\n",
        "print(\"\\nSaved final metrics to model_results.csv\")"
      ],
      "metadata": {
        "colab": {
          "base_uri": "https://localhost:8080/"
        },
        "id": "XVx6qLRqSyZd",
        "outputId": "cc51986d-4b04-4063-b955-43fa60486bce"
      },
      "id": "XVx6qLRqSyZd",
      "execution_count": null,
      "outputs": [
        {
          "output_type": "stream",
          "name": "stderr",
          "text": []
        },
        {
          "output_type": "stream",
          "name": "stdout",
          "text": [
            "[lstm][001] train‑loss 3.2411 acc 0.052 | test‑loss 3.2218 acc 0.112\n"
          ]
        },
        {
          "output_type": "stream",
          "name": "stderr",
          "text": []
        },
        {
          "output_type": "stream",
          "name": "stdout",
          "text": [
            "[lstm][002] train‑loss 3.1451 acc 0.123 | test‑loss 2.9449 acc 0.178\n"
          ]
        },
        {
          "output_type": "stream",
          "name": "stderr",
          "text": []
        },
        {
          "output_type": "stream",
          "name": "stdout",
          "text": [
            "[lstm][003] train‑loss 2.5548 acc 0.305 | test‑loss 2.1784 acc 0.408\n"
          ]
        },
        {
          "output_type": "stream",
          "name": "stderr",
          "text": []
        },
        {
          "output_type": "stream",
          "name": "stdout",
          "text": [
            "[lstm][004] train‑loss 1.9506 acc 0.475 | test‑loss 1.7459 acc 0.538\n"
          ]
        },
        {
          "output_type": "stream",
          "name": "stderr",
          "text": []
        },
        {
          "output_type": "stream",
          "name": "stdout",
          "text": [
            "[lstm][005] train‑loss 1.6203 acc 0.582 | test‑loss 1.4969 acc 0.592\n"
          ]
        },
        {
          "output_type": "stream",
          "name": "stderr",
          "text": []
        },
        {
          "output_type": "stream",
          "name": "stdout",
          "text": [
            "[lstm][006] train‑loss 1.4109 acc 0.643 | test‑loss 1.3144 acc 0.690\n"
          ]
        },
        {
          "output_type": "stream",
          "name": "stderr",
          "text": []
        },
        {
          "output_type": "stream",
          "name": "stdout",
          "text": [
            "[lstm][007] train‑loss 1.2493 acc 0.702 | test‑loss 1.1684 acc 0.724\n"
          ]
        },
        {
          "output_type": "stream",
          "name": "stderr",
          "text": []
        },
        {
          "output_type": "stream",
          "name": "stdout",
          "text": [
            "[lstm][008] train‑loss 1.1218 acc 0.743 | test‑loss 1.0563 acc 0.760\n"
          ]
        },
        {
          "output_type": "stream",
          "name": "stderr",
          "text": []
        },
        {
          "output_type": "stream",
          "name": "stdout",
          "text": [
            "[lstm][009] train‑loss 1.0233 acc 0.772 | test‑loss 0.9711 acc 0.784\n"
          ]
        },
        {
          "output_type": "stream",
          "name": "stderr",
          "text": []
        },
        {
          "output_type": "stream",
          "name": "stdout",
          "text": [
            "[lstm][010] train‑loss 0.9464 acc 0.791 | test‑loss 0.9061 acc 0.801\n"
          ]
        },
        {
          "output_type": "stream",
          "name": "stderr",
          "text": []
        },
        {
          "output_type": "stream",
          "name": "stdout",
          "text": [
            "[lstm][011] train‑loss 0.8827 acc 0.804 | test‑loss 0.8446 acc 0.812\n"
          ]
        },
        {
          "output_type": "stream",
          "name": "stderr",
          "text": []
        },
        {
          "output_type": "stream",
          "name": "stdout",
          "text": [
            "[lstm][012] train‑loss 0.8296 acc 0.813 | test‑loss 0.7952 acc 0.822\n"
          ]
        },
        {
          "output_type": "stream",
          "name": "stderr",
          "text": []
        },
        {
          "output_type": "stream",
          "name": "stdout",
          "text": [
            "[lstm][013] train‑loss 0.7845 acc 0.821 | test‑loss 0.7540 acc 0.828\n"
          ]
        },
        {
          "output_type": "stream",
          "name": "stderr",
          "text": []
        },
        {
          "output_type": "stream",
          "name": "stdout",
          "text": [
            "[lstm][014] train‑loss 0.7442 acc 0.828 | test‑loss 0.7170 acc 0.834\n"
          ]
        },
        {
          "output_type": "stream",
          "name": "stderr",
          "text": []
        },
        {
          "output_type": "stream",
          "name": "stdout",
          "text": [
            "[lstm][015] train‑loss 0.7083 acc 0.835 | test‑loss 0.6816 acc 0.842\n"
          ]
        },
        {
          "output_type": "stream",
          "name": "stderr",
          "text": []
        },
        {
          "output_type": "stream",
          "name": "stdout",
          "text": [
            "[lstm][016] train‑loss 0.6762 acc 0.840 | test‑loss 0.6540 acc 0.845\n"
          ]
        },
        {
          "output_type": "stream",
          "name": "stderr",
          "text": []
        },
        {
          "output_type": "stream",
          "name": "stdout",
          "text": [
            "[lstm][017] train‑loss 0.6471 acc 0.845 | test‑loss 0.6306 acc 0.848\n"
          ]
        },
        {
          "output_type": "stream",
          "name": "stderr",
          "text": []
        },
        {
          "output_type": "stream",
          "name": "stdout",
          "text": [
            "[lstm][018] train‑loss 0.6218 acc 0.849 | test‑loss 0.5996 acc 0.856\n"
          ]
        },
        {
          "output_type": "stream",
          "name": "stderr",
          "text": []
        },
        {
          "output_type": "stream",
          "name": "stdout",
          "text": [
            "[lstm][019] train‑loss 0.5984 acc 0.853 | test‑loss 0.5787 acc 0.858\n"
          ]
        },
        {
          "output_type": "stream",
          "name": "stderr",
          "text": []
        },
        {
          "output_type": "stream",
          "name": "stdout",
          "text": [
            "[lstm][020] train‑loss 0.5767 acc 0.857 | test‑loss 0.5583 acc 0.862\n"
          ]
        },
        {
          "output_type": "stream",
          "name": "stderr",
          "text": []
        },
        {
          "output_type": "stream",
          "name": "stdout",
          "text": [
            "[lstm][021] train‑loss 0.5572 acc 0.861 | test‑loss 0.5416 acc 0.863\n"
          ]
        },
        {
          "output_type": "stream",
          "name": "stderr",
          "text": []
        },
        {
          "output_type": "stream",
          "name": "stdout",
          "text": [
            "[lstm][022] train‑loss 0.5406 acc 0.863 | test‑loss 0.5229 acc 0.866\n"
          ]
        },
        {
          "output_type": "stream",
          "name": "stderr",
          "text": []
        },
        {
          "output_type": "stream",
          "name": "stdout",
          "text": [
            "[lstm][023] train‑loss 0.5225 acc 0.867 | test‑loss 0.5080 acc 0.870\n"
          ]
        },
        {
          "output_type": "stream",
          "name": "stderr",
          "text": []
        },
        {
          "output_type": "stream",
          "name": "stdout",
          "text": [
            "[lstm][024] train‑loss 0.5071 acc 0.871 | test‑loss 0.4913 acc 0.872\n"
          ]
        },
        {
          "output_type": "stream",
          "name": "stderr",
          "text": []
        },
        {
          "output_type": "stream",
          "name": "stdout",
          "text": [
            "[lstm][025] train‑loss 0.4930 acc 0.873 | test‑loss 0.4790 acc 0.875\n"
          ]
        },
        {
          "output_type": "stream",
          "name": "stderr",
          "text": []
        },
        {
          "output_type": "stream",
          "name": "stdout",
          "text": [
            "[lstm][026] train‑loss 0.4799 acc 0.874 | test‑loss 0.4643 acc 0.877\n"
          ]
        },
        {
          "output_type": "stream",
          "name": "stderr",
          "text": []
        },
        {
          "output_type": "stream",
          "name": "stdout",
          "text": [
            "[lstm][027] train‑loss 0.4671 acc 0.877 | test‑loss 0.4535 acc 0.879\n"
          ]
        },
        {
          "output_type": "stream",
          "name": "stderr",
          "text": []
        },
        {
          "output_type": "stream",
          "name": "stdout",
          "text": [
            "[lstm][028] train‑loss 0.4555 acc 0.879 | test‑loss 0.4421 acc 0.881\n"
          ]
        },
        {
          "output_type": "stream",
          "name": "stderr",
          "text": []
        },
        {
          "output_type": "stream",
          "name": "stdout",
          "text": [
            "[lstm][029] train‑loss 0.4451 acc 0.881 | test‑loss 0.4315 acc 0.883\n"
          ]
        },
        {
          "output_type": "stream",
          "name": "stderr",
          "text": []
        },
        {
          "output_type": "stream",
          "name": "stdout",
          "text": [
            "[lstm][030] train‑loss 0.4353 acc 0.882 | test‑loss 0.4221 acc 0.885\n"
          ]
        },
        {
          "output_type": "stream",
          "name": "stderr",
          "text": []
        },
        {
          "output_type": "stream",
          "name": "stdout",
          "text": [
            "[lstm][031] train‑loss 0.4252 acc 0.884 | test‑loss 0.4170 acc 0.884\n"
          ]
        },
        {
          "output_type": "stream",
          "name": "stderr",
          "text": []
        },
        {
          "output_type": "stream",
          "name": "stdout",
          "text": [
            "[lstm][032] train‑loss 0.4169 acc 0.885 | test‑loss 0.4064 acc 0.886\n"
          ]
        },
        {
          "output_type": "stream",
          "name": "stderr",
          "text": []
        },
        {
          "output_type": "stream",
          "name": "stdout",
          "text": [
            "[lstm][033] train‑loss 0.4087 acc 0.887 | test‑loss 0.3970 acc 0.889\n"
          ]
        },
        {
          "output_type": "stream",
          "name": "stderr",
          "text": []
        },
        {
          "output_type": "stream",
          "name": "stdout",
          "text": [
            "[lstm][034] train‑loss 0.4000 acc 0.889 | test‑loss 0.3900 acc 0.890\n"
          ]
        },
        {
          "output_type": "stream",
          "name": "stderr",
          "text": []
        },
        {
          "output_type": "stream",
          "name": "stdout",
          "text": [
            "[lstm][035] train‑loss 0.3931 acc 0.890 | test‑loss 0.3829 acc 0.892\n"
          ]
        },
        {
          "output_type": "stream",
          "name": "stderr",
          "text": []
        },
        {
          "output_type": "stream",
          "name": "stdout",
          "text": [
            "[lstm][036] train‑loss 0.3868 acc 0.891 | test‑loss 0.3766 acc 0.892\n"
          ]
        },
        {
          "output_type": "stream",
          "name": "stderr",
          "text": []
        },
        {
          "output_type": "stream",
          "name": "stdout",
          "text": [
            "[lstm][037] train‑loss 0.3795 acc 0.893 | test‑loss 0.3711 acc 0.894\n"
          ]
        },
        {
          "output_type": "stream",
          "name": "stderr",
          "text": []
        },
        {
          "output_type": "stream",
          "name": "stdout",
          "text": [
            "[lstm][038] train‑loss 0.3737 acc 0.894 | test‑loss 0.3668 acc 0.895\n"
          ]
        },
        {
          "output_type": "stream",
          "name": "stderr",
          "text": []
        },
        {
          "output_type": "stream",
          "name": "stdout",
          "text": [
            "[lstm][039] train‑loss 0.3675 acc 0.895 | test‑loss 0.3594 acc 0.894\n"
          ]
        },
        {
          "output_type": "stream",
          "name": "stderr",
          "text": []
        },
        {
          "output_type": "stream",
          "name": "stdout",
          "text": [
            "[lstm][040] train‑loss 0.3623 acc 0.896 | test‑loss 0.3573 acc 0.894\n"
          ]
        },
        {
          "output_type": "stream",
          "name": "stderr",
          "text": []
        },
        {
          "output_type": "stream",
          "name": "stdout",
          "text": [
            "[lstm][041] train‑loss 0.3562 acc 0.898 | test‑loss 0.3484 acc 0.897\n"
          ]
        },
        {
          "output_type": "stream",
          "name": "stderr",
          "text": []
        },
        {
          "output_type": "stream",
          "name": "stdout",
          "text": [
            "[lstm][042] train‑loss 0.3508 acc 0.899 | test‑loss 0.3445 acc 0.900\n"
          ]
        },
        {
          "output_type": "stream",
          "name": "stderr",
          "text": []
        },
        {
          "output_type": "stream",
          "name": "stdout",
          "text": [
            "[lstm][043] train‑loss 0.3463 acc 0.900 | test‑loss 0.3413 acc 0.900\n"
          ]
        },
        {
          "output_type": "stream",
          "name": "stderr",
          "text": []
        },
        {
          "output_type": "stream",
          "name": "stdout",
          "text": [
            "[lstm][044] train‑loss 0.3414 acc 0.901 | test‑loss 0.3370 acc 0.900\n"
          ]
        },
        {
          "output_type": "stream",
          "name": "stderr",
          "text": []
        },
        {
          "output_type": "stream",
          "name": "stdout",
          "text": [
            "[lstm][045] train‑loss 0.3379 acc 0.901 | test‑loss 0.3313 acc 0.903\n"
          ]
        },
        {
          "output_type": "stream",
          "name": "stderr",
          "text": []
        },
        {
          "output_type": "stream",
          "name": "stdout",
          "text": [
            "[lstm][046] train‑loss 0.3343 acc 0.902 | test‑loss 0.3303 acc 0.901\n"
          ]
        },
        {
          "output_type": "stream",
          "name": "stderr",
          "text": []
        },
        {
          "output_type": "stream",
          "name": "stdout",
          "text": [
            "[lstm][047] train‑loss 0.3283 acc 0.904 | test‑loss 0.3223 acc 0.905\n"
          ]
        },
        {
          "output_type": "stream",
          "name": "stderr",
          "text": []
        },
        {
          "output_type": "stream",
          "name": "stdout",
          "text": [
            "[lstm][048] train‑loss 0.3233 acc 0.905 | test‑loss 0.3191 acc 0.905\n"
          ]
        },
        {
          "output_type": "stream",
          "name": "stderr",
          "text": []
        },
        {
          "output_type": "stream",
          "name": "stdout",
          "text": [
            "[lstm][049] train‑loss 0.3198 acc 0.906 | test‑loss 0.3157 acc 0.906\n"
          ]
        },
        {
          "output_type": "stream",
          "name": "stderr",
          "text": []
        },
        {
          "output_type": "stream",
          "name": "stdout",
          "text": [
            "[lstm][050] train‑loss 0.3157 acc 0.907 | test‑loss 0.3114 acc 0.906\n"
          ]
        },
        {
          "output_type": "stream",
          "name": "stderr",
          "text": []
        },
        {
          "output_type": "stream",
          "name": "stdout",
          "text": [
            "[lstm][051] train‑loss 0.3140 acc 0.907 | test‑loss 0.3131 acc 0.905\n"
          ]
        },
        {
          "output_type": "stream",
          "name": "stderr",
          "text": []
        },
        {
          "output_type": "stream",
          "name": "stdout",
          "text": [
            "[lstm][052] train‑loss 0.3085 acc 0.908 | test‑loss 0.3083 acc 0.906\n"
          ]
        },
        {
          "output_type": "stream",
          "name": "stderr",
          "text": []
        },
        {
          "output_type": "stream",
          "name": "stdout",
          "text": [
            "[lstm][053] train‑loss 0.3065 acc 0.909 | test‑loss 0.3015 acc 0.909\n"
          ]
        },
        {
          "output_type": "stream",
          "name": "stderr",
          "text": []
        },
        {
          "output_type": "stream",
          "name": "stdout",
          "text": [
            "[lstm][054] train‑loss 0.3014 acc 0.911 | test‑loss 0.3095 acc 0.906\n"
          ]
        },
        {
          "output_type": "stream",
          "name": "stderr",
          "text": []
        },
        {
          "output_type": "stream",
          "name": "stdout",
          "text": [
            "[lstm][055] train‑loss 0.2997 acc 0.910 | test‑loss 0.2957 acc 0.911\n"
          ]
        },
        {
          "output_type": "stream",
          "name": "stderr",
          "text": []
        },
        {
          "output_type": "stream",
          "name": "stdout",
          "text": [
            "[lstm][056] train‑loss 0.2943 acc 0.913 | test‑loss 0.2942 acc 0.911\n"
          ]
        },
        {
          "output_type": "stream",
          "name": "stderr",
          "text": []
        },
        {
          "output_type": "stream",
          "name": "stdout",
          "text": [
            "[lstm][057] train‑loss 0.2911 acc 0.913 | test‑loss 0.2904 acc 0.912\n"
          ]
        },
        {
          "output_type": "stream",
          "name": "stderr",
          "text": []
        },
        {
          "output_type": "stream",
          "name": "stdout",
          "text": [
            "[lstm][058] train‑loss 0.2890 acc 0.914 | test‑loss 0.2869 acc 0.913\n"
          ]
        },
        {
          "output_type": "stream",
          "name": "stderr",
          "text": []
        },
        {
          "output_type": "stream",
          "name": "stdout",
          "text": [
            "[lstm][059] train‑loss 0.2846 acc 0.915 | test‑loss 0.2845 acc 0.913\n"
          ]
        },
        {
          "output_type": "stream",
          "name": "stderr",
          "text": []
        },
        {
          "output_type": "stream",
          "name": "stdout",
          "text": [
            "[lstm][060] train‑loss 0.2817 acc 0.915 | test‑loss 0.2813 acc 0.914\n"
          ]
        },
        {
          "output_type": "stream",
          "name": "stderr",
          "text": []
        },
        {
          "output_type": "stream",
          "name": "stdout",
          "text": [
            "[lstm][061] train‑loss 0.2787 acc 0.916 | test‑loss 0.2800 acc 0.913\n"
          ]
        },
        {
          "output_type": "stream",
          "name": "stderr",
          "text": []
        },
        {
          "output_type": "stream",
          "name": "stdout",
          "text": [
            "[lstm][062] train‑loss 0.2763 acc 0.917 | test‑loss 0.2770 acc 0.914\n"
          ]
        },
        {
          "output_type": "stream",
          "name": "stderr",
          "text": []
        },
        {
          "output_type": "stream",
          "name": "stdout",
          "text": [
            "[lstm][063] train‑loss 0.2726 acc 0.918 | test‑loss 0.2737 acc 0.916\n"
          ]
        },
        {
          "output_type": "stream",
          "name": "stderr",
          "text": []
        },
        {
          "output_type": "stream",
          "name": "stdout",
          "text": [
            "[lstm][064] train‑loss 0.2720 acc 0.918 | test‑loss 0.2729 acc 0.915\n"
          ]
        },
        {
          "output_type": "stream",
          "name": "stderr",
          "text": []
        },
        {
          "output_type": "stream",
          "name": "stdout",
          "text": [
            "[lstm][065] train‑loss 0.2692 acc 0.919 | test‑loss 0.2681 acc 0.919\n"
          ]
        },
        {
          "output_type": "stream",
          "name": "stderr",
          "text": []
        },
        {
          "output_type": "stream",
          "name": "stdout",
          "text": [
            "[lstm][066] train‑loss 0.2650 acc 0.920 | test‑loss 0.2675 acc 0.917\n"
          ]
        },
        {
          "output_type": "stream",
          "name": "stderr",
          "text": []
        },
        {
          "output_type": "stream",
          "name": "stdout",
          "text": [
            "[lstm][067] train‑loss 0.2624 acc 0.920 | test‑loss 0.2653 acc 0.917\n"
          ]
        },
        {
          "output_type": "stream",
          "name": "stderr",
          "text": []
        },
        {
          "output_type": "stream",
          "name": "stdout",
          "text": [
            "[lstm][068] train‑loss 0.2595 acc 0.921 | test‑loss 0.2615 acc 0.918\n"
          ]
        },
        {
          "output_type": "stream",
          "name": "stderr",
          "text": []
        },
        {
          "output_type": "stream",
          "name": "stdout",
          "text": [
            "[lstm][069] train‑loss 0.2579 acc 0.921 | test‑loss 0.2611 acc 0.919\n"
          ]
        },
        {
          "output_type": "stream",
          "name": "stderr",
          "text": []
        },
        {
          "output_type": "stream",
          "name": "stdout",
          "text": [
            "[lstm][070] train‑loss 0.2553 acc 0.922 | test‑loss 0.2589 acc 0.919\n"
          ]
        },
        {
          "output_type": "stream",
          "name": "stderr",
          "text": []
        },
        {
          "output_type": "stream",
          "name": "stdout",
          "text": [
            "[lstm][071] train‑loss 0.2529 acc 0.923 | test‑loss 0.2569 acc 0.919\n"
          ]
        },
        {
          "output_type": "stream",
          "name": "stderr",
          "text": []
        },
        {
          "output_type": "stream",
          "name": "stdout",
          "text": [
            "[lstm][072] train‑loss 0.2504 acc 0.923 | test‑loss 0.2538 acc 0.921\n"
          ]
        },
        {
          "output_type": "stream",
          "name": "stderr",
          "text": []
        },
        {
          "output_type": "stream",
          "name": "stdout",
          "text": [
            "[lstm][073] train‑loss 0.2483 acc 0.924 | test‑loss 0.2513 acc 0.921\n"
          ]
        },
        {
          "output_type": "stream",
          "name": "stderr",
          "text": []
        },
        {
          "output_type": "stream",
          "name": "stdout",
          "text": [
            "[lstm][074] train‑loss 0.2451 acc 0.925 | test‑loss 0.2493 acc 0.920\n"
          ]
        },
        {
          "output_type": "stream",
          "name": "stderr",
          "text": []
        },
        {
          "output_type": "stream",
          "name": "stdout",
          "text": [
            "[lstm][075] train‑loss 0.2435 acc 0.925 | test‑loss 0.2470 acc 0.923\n"
          ]
        },
        {
          "output_type": "stream",
          "name": "stderr",
          "text": []
        },
        {
          "output_type": "stream",
          "name": "stdout",
          "text": [
            "[lstm][076] train‑loss 0.2409 acc 0.926 | test‑loss 0.2453 acc 0.922\n"
          ]
        },
        {
          "output_type": "stream",
          "name": "stderr",
          "text": []
        },
        {
          "output_type": "stream",
          "name": "stdout",
          "text": [
            "[lstm][077] train‑loss 0.2385 acc 0.927 | test‑loss 0.2425 acc 0.923\n"
          ]
        },
        {
          "output_type": "stream",
          "name": "stderr",
          "text": []
        },
        {
          "output_type": "stream",
          "name": "stdout",
          "text": [
            "[lstm][078] train‑loss 0.2360 acc 0.928 | test‑loss 0.2414 acc 0.925\n"
          ]
        },
        {
          "output_type": "stream",
          "name": "stderr",
          "text": []
        },
        {
          "output_type": "stream",
          "name": "stdout",
          "text": [
            "[lstm][079] train‑loss 0.2350 acc 0.928 | test‑loss 0.2411 acc 0.924\n"
          ]
        },
        {
          "output_type": "stream",
          "name": "stderr",
          "text": []
        },
        {
          "output_type": "stream",
          "name": "stdout",
          "text": [
            "[lstm][080] train‑loss 0.2348 acc 0.928 | test‑loss 0.2369 acc 0.926\n"
          ]
        },
        {
          "output_type": "stream",
          "name": "stderr",
          "text": []
        },
        {
          "output_type": "stream",
          "name": "stdout",
          "text": [
            "[lstm][081] train‑loss 0.2302 acc 0.930 | test‑loss 0.2340 acc 0.927\n"
          ]
        },
        {
          "output_type": "stream",
          "name": "stderr",
          "text": []
        },
        {
          "output_type": "stream",
          "name": "stdout",
          "text": [
            "[lstm][082] train‑loss 0.2282 acc 0.931 | test‑loss 0.2335 acc 0.927\n"
          ]
        },
        {
          "output_type": "stream",
          "name": "stderr",
          "text": []
        },
        {
          "output_type": "stream",
          "name": "stdout",
          "text": [
            "[lstm][083] train‑loss 0.2261 acc 0.931 | test‑loss 0.2304 acc 0.929\n"
          ]
        },
        {
          "output_type": "stream",
          "name": "stderr",
          "text": []
        },
        {
          "output_type": "stream",
          "name": "stdout",
          "text": [
            "[lstm][084] train‑loss 0.2240 acc 0.932 | test‑loss 0.2303 acc 0.928\n"
          ]
        },
        {
          "output_type": "stream",
          "name": "stderr",
          "text": []
        },
        {
          "output_type": "stream",
          "name": "stdout",
          "text": [
            "[lstm][085] train‑loss 0.2230 acc 0.932 | test‑loss 0.2276 acc 0.931\n"
          ]
        },
        {
          "output_type": "stream",
          "name": "stderr",
          "text": []
        },
        {
          "output_type": "stream",
          "name": "stdout",
          "text": [
            "[lstm][086] train‑loss 0.2200 acc 0.934 | test‑loss 0.2266 acc 0.928\n"
          ]
        },
        {
          "output_type": "stream",
          "name": "stderr",
          "text": []
        },
        {
          "output_type": "stream",
          "name": "stdout",
          "text": [
            "[lstm][087] train‑loss 0.2187 acc 0.934 | test‑loss 0.2233 acc 0.932\n"
          ]
        },
        {
          "output_type": "stream",
          "name": "stderr",
          "text": []
        },
        {
          "output_type": "stream",
          "name": "stdout",
          "text": [
            "[lstm][088] train‑loss 0.2166 acc 0.935 | test‑loss 0.2224 acc 0.932\n"
          ]
        },
        {
          "output_type": "stream",
          "name": "stderr",
          "text": []
        },
        {
          "output_type": "stream",
          "name": "stdout",
          "text": [
            "[lstm][089] train‑loss 0.2149 acc 0.935 | test‑loss 0.2224 acc 0.929\n"
          ]
        },
        {
          "output_type": "stream",
          "name": "stderr",
          "text": []
        },
        {
          "output_type": "stream",
          "name": "stdout",
          "text": [
            "[lstm][090] train‑loss 0.2127 acc 0.936 | test‑loss 0.2196 acc 0.931\n"
          ]
        },
        {
          "output_type": "stream",
          "name": "stderr",
          "text": []
        },
        {
          "output_type": "stream",
          "name": "stdout",
          "text": [
            "[lstm][091] train‑loss 0.2107 acc 0.936 | test‑loss 0.2176 acc 0.933\n"
          ]
        },
        {
          "output_type": "stream",
          "name": "stderr",
          "text": []
        },
        {
          "output_type": "stream",
          "name": "stdout",
          "text": [
            "[lstm][092] train‑loss 0.2088 acc 0.938 | test‑loss 0.2160 acc 0.932\n"
          ]
        },
        {
          "output_type": "stream",
          "name": "stderr",
          "text": []
        },
        {
          "output_type": "stream",
          "name": "stdout",
          "text": [
            "[lstm][093] train‑loss 0.2076 acc 0.937 | test‑loss 0.2154 acc 0.932\n"
          ]
        },
        {
          "output_type": "stream",
          "name": "stderr",
          "text": []
        },
        {
          "output_type": "stream",
          "name": "stdout",
          "text": [
            "[lstm][094] train‑loss 0.2056 acc 0.938 | test‑loss 0.2124 acc 0.935\n"
          ]
        },
        {
          "output_type": "stream",
          "name": "stderr",
          "text": []
        },
        {
          "output_type": "stream",
          "name": "stdout",
          "text": [
            "[lstm][095] train‑loss 0.2037 acc 0.939 | test‑loss 0.2123 acc 0.935\n"
          ]
        },
        {
          "output_type": "stream",
          "name": "stderr",
          "text": []
        },
        {
          "output_type": "stream",
          "name": "stdout",
          "text": [
            "[lstm][096] train‑loss 0.2025 acc 0.939 | test‑loss 0.2103 acc 0.935\n"
          ]
        },
        {
          "output_type": "stream",
          "name": "stderr",
          "text": []
        },
        {
          "output_type": "stream",
          "name": "stdout",
          "text": [
            "[lstm][097] train‑loss 0.2006 acc 0.940 | test‑loss 0.2077 acc 0.935\n"
          ]
        },
        {
          "output_type": "stream",
          "name": "stderr",
          "text": []
        },
        {
          "output_type": "stream",
          "name": "stdout",
          "text": [
            "[lstm][098] train‑loss 0.1985 acc 0.941 | test‑loss 0.2089 acc 0.936\n"
          ]
        },
        {
          "output_type": "stream",
          "name": "stderr",
          "text": []
        },
        {
          "output_type": "stream",
          "name": "stdout",
          "text": [
            "[lstm][099] train‑loss 0.1989 acc 0.939 | test‑loss 0.2046 acc 0.937\n"
          ]
        },
        {
          "output_type": "stream",
          "name": "stderr",
          "text": []
        },
        {
          "output_type": "stream",
          "name": "stdout",
          "text": [
            "[lstm][100] train‑loss 0.1956 acc 0.942 | test‑loss 0.2041 acc 0.935\n",
            "Saved lstm best model\n",
            "\n",
            "Saved final metrics to model_results.csv\n"
          ]
        }
      ]
    },
    {
      "cell_type": "code",
      "source": [
        "from sklearn.ensemble import HistGradientBoostingClassifier\n",
        "from sklearn.pipeline import make_pipeline\n",
        "from sklearn.preprocessing import StandardScaler\n",
        "from sklearn.linear_model import LogisticRegression\n",
        "from sklearn.svm import SVC\n",
        "from sklearn.ensemble import RandomForestClassifier\n",
        "from sklearn.metrics import accuracy_score\n",
        "\n",
        "X_train = np.stack(kp_train_df[\"keypoints\"].values).astype(np.float32)\n",
        "y_train = kp_train_df[\"label_id\"].values\n",
        "X_test  = np.stack(kp_test_df [\"keypoints\"].values).astype(np.float32)\n",
        "y_test  = kp_test_df [\"label_id\"].values\n",
        "\n",
        "# Classical models, parameters\n",
        "models = {\n",
        "    \"GB‑trees\": HistGradientBoostingClassifier(\n",
        "                    learning_rate=0.05,\n",
        "                    max_iter=100,\n",
        "                    l2_regularization=0.1,\n",
        "                    class_weight=\"balanced\"),\n",
        "\n",
        "    \"LogReg\": make_pipeline(\n",
        "                    StandardScaler(),\n",
        "                    LogisticRegression(\n",
        "                        multi_class=\"multinomial\",\n",
        "                        solver=\"saga\",\n",
        "                        penalty=\"l2\", C=26.0,\n",
        "                        max_iter=100,\n",
        "                        class_weight=\"balanced\")),\n",
        "}\n",
        "results = {}\n",
        "for name, clf in tqdm(models.items(), total=len(models),\n",
        "                      desc=\"Training & scoring classical models\"):\n",
        "    clf.fit(X_train, y_train)\n",
        "    acc = accuracy_score(y_test, clf.predict(X_test))\n",
        "    results[name] = acc\n",
        "    tqdm.write(f\"{name:10s} accuracy: {acc:.4f}\")"
      ],
      "metadata": {
        "colab": {
          "base_uri": "https://localhost:8080/"
        },
        "id": "dzxZGIMtLrHW",
        "outputId": "8ddc71fb-06c0-4af2-af6c-ff67eca80675"
      },
      "id": "dzxZGIMtLrHW",
      "execution_count": null,
      "outputs": [
        {
          "output_type": "stream",
          "name": "stderr",
          "text": [
            "Training & scoring classical models:  50%|█████     | 1/2 [01:47<01:47, 107.96s/it]/usr/local/lib/python3.11/dist-packages/sklearn/linear_model/_logistic.py:1247: FutureWarning: 'multi_class' was deprecated in version 1.5 and will be removed in 1.7. From then on, it will always use 'multinomial'. Leave it to its default value to avoid this warning.\n",
            "  warnings.warn(\n"
          ]
        },
        {
          "output_type": "stream",
          "name": "stdout",
          "text": [
            "GB‑trees   accuracy: 0.9829\n"
          ]
        },
        {
          "output_type": "stream",
          "name": "stderr",
          "text": [
            "/usr/local/lib/python3.11/dist-packages/sklearn/linear_model/_sag.py:348: ConvergenceWarning: The max_iter was reached which means the coef_ did not converge\n",
            "  warnings.warn(\n",
            "Training & scoring classical models: 100%|██████████| 2/2 [02:59<00:00, 89.88s/it]"
          ]
        },
        {
          "output_type": "stream",
          "name": "stdout",
          "text": [
            "LogReg     accuracy: 0.9158\n"
          ]
        },
        {
          "output_type": "stream",
          "name": "stderr",
          "text": [
            "\n"
          ]
        }
      ]
    },
    {
      "cell_type": "code",
      "execution_count": 24,
      "id": "77dd1ba2",
      "metadata": {
        "colab": {
          "base_uri": "https://localhost:8080/"
        },
        "id": "77dd1ba2",
        "outputId": "3345f280-8c8d-4431-bab4-118d30911f2c"
      },
      "outputs": [
        {
          "output_type": "stream",
          "name": "stdout",
          "text": [
            "{0: 'a', 1: 'b', 2: 'c', 3: 'd', 4: 'e', 5: 'f', 6: 'g', 7: 'h', 8: 'i', 9: 'j', 10: 'k', 11: 'l', 12: 'm', 13: 'n', 14: 'o', 15: 'p', 16: 'q', 17: 'r', 18: 's', 19: 't', 20: 'u', 21: 'v', 22: 'w', 23: 'x', 24: 'y', 25: 'z'}\n",
            "26\n"
          ]
        }
      ],
      "source": [
        "# setting numbers to labels for classification\n",
        "id2label = dict(enumerate(image_df['label'].astype('category').cat.categories))\n",
        "print(id2label)\n",
        "print(NUM_CLASSES)"
      ]
    },
    {
      "cell_type": "code",
      "source": [
        "# testing of the classical models\n",
        "def evaluate_sklearn_model(name, clf, X_test, y_test, id2label):\n",
        "    y_prob = clf.predict_proba(X_test)\n",
        "    y_pred = np.argmax(y_prob, axis=1)\n",
        "\n",
        "    report = classification_report(\n",
        "        y_test, y_pred, digits=4, output_dict=True\n",
        "    )\n",
        "    metrics = {\n",
        "        \"accuracy\"      : report[\"accuracy\"],\n",
        "        \"MCC\"           : matthews_corrcoef(y_test, y_pred),\n",
        "        \"log‑loss\"      : log_loss       (y_test, y_prob),\n",
        "        \"ROC‑AUC macro\": roc_auc_score(\n",
        "                              np.eye(y_prob.shape[1])[y_test],\n",
        "                              y_prob,\n",
        "                              average=\"macro\",\n",
        "                              multi_class=\"ovr\")\n",
        "    }\n",
        "    summary = pd.Series(metrics).round(4)\n",
        "\n",
        "    print(f\"\\n=== {name} ===\")\n",
        "    print(\"Metric summary\\n\", summary, \"\\n\")\n",
        "    df_cr = (\n",
        "        pd.DataFrame(report)\n",
        "          .T\n",
        "          .drop(index=[\"accuracy\", \"macro avg\", \"weighted avg\"])\n",
        "          .rename_axis(\"class\")\n",
        "          .round(4)\n",
        "    )\n",
        "    print(\"Per‑class precision/recall/F1\\n\", df_cr, \"\\n\")\n",
        "\n",
        "    cm = confusion_matrix(y_test, y_pred)\n",
        "    plt.figure(figsize=(6,5))\n",
        "    sns.heatmap(\n",
        "        cm, annot=True, fmt=\"d\", cmap=\"Blues\",\n",
        "        xticklabels=id2label.values(),\n",
        "        yticklabels=id2label.values()\n",
        "    )\n",
        "    plt.title(f\"{name} Confusion Matrix\")\n",
        "    plt.xlabel(\"Predicted\"); plt.ylabel(\"True\")\n",
        "    plt.tight_layout()\n",
        "    plt.show()\n",
        "\n",
        "# run it for each classical model\n",
        "for name, clf in models.items():\n",
        "    evaluate_sklearn_model(name, clf, X_test, y_test, id2label)"
      ],
      "metadata": {
        "colab": {
          "base_uri": "https://localhost:8080/",
          "height": 1000
        },
        "id": "6l6B9aEWruZ0",
        "outputId": "b661fea1-2f0e-45e6-b8f7-dcb4143c5d5b"
      },
      "id": "6l6B9aEWruZ0",
      "execution_count": null,
      "outputs": [
        {
          "output_type": "stream",
          "name": "stdout",
          "text": [
            "\n",
            "=== GB‑trees ===\n",
            "Metric summary\n",
            " accuracy         0.9829\n",
            "MCC              0.9822\n",
            "log‑loss         0.0831\n",
            "ROC‑AUC macro    0.9999\n",
            "dtype: float64 \n",
            "\n",
            "Per‑class precision/recall/F1\n",
            "        precision  recall  f1-score  support\n",
            "class                                      \n",
            "0         0.9899  0.9899    0.9899    395.0\n",
            "1         0.9821  0.9897    0.9859    388.0\n",
            "2         0.9972  0.9944    0.9958    356.0\n",
            "3         0.9840  0.9919    0.9879    495.0\n",
            "4         0.9931  0.9885    0.9908    435.0\n",
            "5         0.9964  0.9982    0.9973    560.0\n",
            "6         0.9934  0.9912    0.9923    455.0\n",
            "7         0.9917  0.9876    0.9896    483.0\n",
            "8         0.9787  0.9850    0.9818    466.0\n",
            "9         0.9961  0.9826    0.9893    516.0\n",
            "10        0.9830  0.9793    0.9812    532.0\n",
            "11        0.9939  0.9919    0.9929    495.0\n",
            "12        0.9509  0.9509    0.9509    224.0\n",
            "13        0.9695  0.9598    0.9646    199.0\n",
            "14        0.9835  0.9929    0.9882    421.0\n",
            "15        0.9951  0.9976    0.9963    409.0\n",
            "16        0.9927  0.9927    0.9927    410.0\n",
            "17        0.9620  0.9212    0.9412    495.0\n",
            "18        0.9567  0.9838    0.9701    494.0\n",
            "19        0.9916  0.9895    0.9905    475.0\n",
            "20        0.9366  0.9422    0.9394    502.0\n",
            "21        0.9767  0.9692    0.9729    519.0\n",
            "22        0.9940  1.0000    0.9970    498.0\n",
            "23        0.9617  0.9847    0.9731    459.0\n",
            "24        0.9923  0.9904    0.9914    522.0\n",
            "25        0.9957  0.9914    0.9935    465.0 \n",
            "\n"
          ]
        },
        {
          "output_type": "display_data",
          "data": {
            "text/plain": [
              "<Figure size 600x500 with 2 Axes>"
            ],
            "image/png": "[encoded data removed]"
          },
          "metadata": {}
        },
        {
          "output_type": "stream",
          "name": "stdout",
          "text": [
            "\n",
            "=== LogReg ===\n",
            "Metric summary\n",
            " accuracy         0.9158\n",
            "MCC              0.9123\n",
            "log‑loss         0.3746\n",
            "ROC‑AUC macro    0.9942\n",
            "dtype: float64 \n",
            "\n",
            "Per‑class precision/recall/F1\n",
            "        precision  recall  f1-score  support\n",
            "class                                      \n",
            "0         0.9040  0.9772    0.9392    395.0\n",
            "1         0.9144  0.9639    0.9385    388.0\n",
            "2         0.9503  0.9663    0.9582    356.0\n",
            "3         0.9668  0.8828    0.9229    495.0\n",
            "4         0.9236  0.9448    0.9341    435.0\n",
            "5         0.9715  0.9732    0.9723    560.0\n",
            "6         0.9454  0.9516    0.9485    455.0\n",
            "7         0.9498  0.9400    0.9448    483.0\n",
            "8         0.9065  0.8948    0.9006    466.0\n",
            "9         0.9566  0.8973    0.9260    516.0\n",
            "10        0.9317  0.9229    0.9273    532.0\n",
            "11        0.9657  0.9677    0.9667    495.0\n",
            "12        0.7432  0.7366    0.7399    224.0\n",
            "13        0.7598  0.7789    0.7692    199.0\n",
            "14        0.9312  0.9644    0.9475    421.0\n",
            "15        0.9531  0.9438    0.9484    409.0\n",
            "16        0.9129  0.9463    0.9293    410.0\n",
            "17        0.8535  0.7535    0.8004    495.0\n",
            "18        0.9499  0.9211    0.9353    494.0\n",
            "19        0.9109  0.9474    0.9288    475.0\n",
            "20        0.7342  0.8088    0.7697    502.0\n",
            "21        0.8730  0.8478    0.8602    519.0\n",
            "22        0.9652  0.9478    0.9564    498.0\n",
            "23        0.8903  0.9194    0.9046    459.0\n",
            "24        0.9746  0.9559    0.9652    522.0\n",
            "25        0.9137  0.9333    0.9234    465.0 \n",
            "\n"
          ]
        },
        {
          "output_type": "display_data",
          "data": {
            "text/plain": [
              "<Figure size 600x500 with 2 Axes>"
            ],
            "image/png": "[encoded data removed]"
          },
          "metadata": {}
        }
      ]
    },
    {
      "cell_type": "code",
      "execution_count": 31,
      "id": "87acb8f3",
      "metadata": {
        "colab": {
          "base_uri": "https://localhost:8080/",
          "height": 950
        },
        "id": "87acb8f3",
        "outputId": "37fd9b95-bce9-4dfd-9947-2fdbcb1f96f5"
      },
      "outputs": [
        {
          "output_type": "stream",
          "name": "stdout",
          "text": [
            "\n",
            "Metric summary\n",
            " overall accuracy    0.9345\n",
            "MCC                 0.9319\n",
            "log‑loss            0.2041\n",
            "macro ROC‑AUC       0.9984\n",
            "dtype: float64\n",
            "       precision  recall  f1-score  support\n",
            "class                                      \n",
            "0         0.9553  0.9747    0.9649    395.0\n",
            "1         0.9325  0.9613    0.9467    388.0\n",
            "2         0.9619  0.9916    0.9765    356.0\n",
            "3         0.9662  0.9232    0.9442    495.0\n",
            "4         0.9501  0.9632    0.9566    435.0\n"
          ]
        },
        {
          "output_type": "display_data",
          "data": {
            "text/plain": [
              "<Figure size 900x700 with 2 Axes>"
            ],
            "image/png": "[encoded data removed]"
          },
          "metadata": {}
        }
      ],
      "source": [
        "# Grab the desired model and load it\n",
        "ckpt_path = \"/content/drive/MyDrive/ASL_models/lstm_best.pth\"\n",
        "ckpt = torch.load(ckpt_path, map_location=device, weights_only=False)\n",
        "model = KeypointLSTM(dim=63, n_classes=NUM_CLASSES).to(device)\n",
        "model.load_state_dict(ckpt[\"model_state\"])\n",
        "model.eval()\n",
        "\n",
        "y_true, y_pred, y_prob = [], [], []\n",
        "\n",
        "# evaluate the model\n",
        "with torch.no_grad(), torch.amp.autocast(device_type='cuda', enabled=torch.cuda.is_available()):\n",
        "    for kps, lbls in kp_test_loader:\n",
        "        kps  = kps.to(device)\n",
        "        logits = model(kps)\n",
        "\n",
        "        probs  = F.softmax(logits, dim=1).cpu().numpy()\n",
        "        y_prob.append(probs)\n",
        "        y_pred.extend(probs.argmax(1))\n",
        "        y_true.extend(lbls.numpy())\n",
        "\n",
        "y_prob = np.concatenate(y_prob, axis=0)\n",
        "y_true = np.asarray(y_true)\n",
        "y_pred = np.asarray(y_pred)\n",
        "\n",
        "report = classification_report(y_true, y_pred, digits=4, output_dict=True)\n",
        "\n",
        "metrics = {\n",
        "    \"overall accuracy\"  : report[\"accuracy\"],\n",
        "    \"MCC\"               : matthews_corrcoef    (y_true, y_pred),\n",
        "    \"log‑loss\"          : log_loss             (y_true, y_prob),\n",
        "    \"macro ROC‑AUC\"     : roc_auc_score(\n",
        "                              np.eye(y_prob.shape[1])[y_true],\n",
        "                              y_prob, average=\"macro\",\n",
        "                              multi_class=\"ovr\")\n",
        "}\n",
        "\n",
        "# show results\n",
        "summary = pd.Series(metrics).round(4)\n",
        "print(\"\\nMetric summary\\n\", summary)\n",
        "\n",
        "df_cr = (pd.DataFrame(report)\n",
        "           .T.drop(index=[\"accuracy\", \"macro avg\", \"weighted avg\"])\n",
        "           .rename_axis(\"class\").round(4))\n",
        "print(df_cr.head())\n",
        "\n",
        "cm = confusion_matrix(y_true, y_pred)\n",
        "plt.figure(figsize=(9,7))\n",
        "sns.heatmap(cm, annot=True, fmt='d', cmap='Blues',\n",
        "            xticklabels=id2label.values(), yticklabels=id2label.values())\n",
        "plt.title(\"Confusion matrix LSTM\")\n",
        "plt.xlabel(\"Predicted\"); plt.ylabel(\"True\")\n",
        "plt.tight_layout(); plt.show()"
      ]
    },
    {
      "cell_type": "code",
      "execution_count": 32,
      "id": "d38ca5a8",
      "metadata": {
        "id": "d38ca5a8"
      },
      "outputs": [],
      "source": [
        "# setup mediapipe hands\n",
        "mp_hands = mp.solutions.hands\n",
        "hands = mp_hands.Hands(static_image_mode=False,\n",
        "                       max_num_hands=1,\n",
        "                       min_detection_confidence=0.5,\n",
        "                       min_tracking_confidence=0.5)\n",
        "mp_draw = mp.solutions.drawing_utils"
      ]
    },
    {
      "cell_type": "code",
      "execution_count": 33,
      "id": "9d42dfb7",
      "metadata": {
        "colab": {
          "base_uri": "https://localhost:8080/",
          "height": 836
        },
        "id": "9d42dfb7",
        "outputId": "ae851e96-8ed4-4cb1-f9d8-500bc2574b18"
      },
      "outputs": [
        {
          "output_type": "display_data",
          "data": {
            "image/jpeg": "[encoded data removed]",
            "text/plain": [
              "<IPython.core.display.Image object>"
            ]
          },
          "metadata": {}
        },
        {
          "output_type": "error",
          "ename": "KeyboardInterrupt",
          "evalue": "",
          "traceback": [
            "\u001b[0;31m---------------------------------------------------------------------------\u001b[0m",
            "\u001b[0;31mKeyboardInterrupt\u001b[0m                         Traceback (most recent call last)",
            "\u001b[0;32m<ipython-input-33-a63265d8fb4e>\u001b[0m in \u001b[0;36m<cell line: 0>\u001b[0;34m()\u001b[0m\n\u001b[1;32m     46\u001b[0m \u001b[0;31m# main loop for real time detections\u001b[0m\u001b[0;34m\u001b[0m\u001b[0;34m\u001b[0m\u001b[0m\n\u001b[1;32m     47\u001b[0m \u001b[0;32mwhile\u001b[0m \u001b[0mloop\u001b[0m \u001b[0;34m==\u001b[0m \u001b[0;32mTrue\u001b[0m\u001b[0;34m:\u001b[0m\u001b[0;34m\u001b[0m\u001b[0;34m\u001b[0m\u001b[0m\n\u001b[0;32m---> 48\u001b[0;31m     \u001b[0mframe\u001b[0m \u001b[0;34m=\u001b[0m \u001b[0mtake_frame\u001b[0m\u001b[0;34m(\u001b[0m\u001b[0;34m)\u001b[0m\u001b[0;34m\u001b[0m\u001b[0;34m\u001b[0m\u001b[0m\n\u001b[0m\u001b[1;32m     49\u001b[0m     \u001b[0;32mif\u001b[0m \u001b[0mframe\u001b[0m \u001b[0;32mis\u001b[0m \u001b[0;32mNone\u001b[0m\u001b[0;34m:\u001b[0m\u001b[0;34m\u001b[0m\u001b[0;34m\u001b[0m\u001b[0m\n\u001b[1;32m     50\u001b[0m         \u001b[0mprint\u001b[0m\u001b[0;34m(\u001b[0m\u001b[0;34m\"Failed to grab frame.\"\u001b[0m\u001b[0;34m)\u001b[0m\u001b[0;34m\u001b[0m\u001b[0;34m\u001b[0m\u001b[0m\n",
            "\u001b[0;32m<ipython-input-33-a63265d8fb4e>\u001b[0m in \u001b[0;36mtake_frame\u001b[0;34m(quality)\u001b[0m\n\u001b[1;32m     22\u001b[0m     \u001b[0mcapture\u001b[0m\u001b[0;34m(\u001b[0m\u001b[0;34m{\u001b[0m\u001b[0mquality\u001b[0m\u001b[0;34m}\u001b[0m\u001b[0;34m)\u001b[0m\u001b[0;34m\u001b[0m\u001b[0;34m\u001b[0m\u001b[0m\n\u001b[1;32m     23\u001b[0m     '''\n\u001b[0;32m---> 24\u001b[0;31m     \u001b[0mdata\u001b[0m \u001b[0;34m=\u001b[0m \u001b[0meval_js\u001b[0m\u001b[0;34m(\u001b[0m\u001b[0mjs\u001b[0m\u001b[0;34m)\u001b[0m\u001b[0;34m\u001b[0m\u001b[0;34m\u001b[0m\u001b[0m\n\u001b[0m\u001b[1;32m     25\u001b[0m     \u001b[0mimg_bytes\u001b[0m \u001b[0;34m=\u001b[0m \u001b[0mb64decode\u001b[0m\u001b[0;34m(\u001b[0m\u001b[0mdata\u001b[0m\u001b[0;34m.\u001b[0m\u001b[0msplit\u001b[0m\u001b[0;34m(\u001b[0m\u001b[0;34m','\u001b[0m\u001b[0;34m)\u001b[0m\u001b[0;34m[\u001b[0m\u001b[0;36m1\u001b[0m\u001b[0;34m]\u001b[0m\u001b[0;34m)\u001b[0m\u001b[0;34m\u001b[0m\u001b[0;34m\u001b[0m\u001b[0m\n\u001b[1;32m     26\u001b[0m     \u001b[0marr\u001b[0m \u001b[0;34m=\u001b[0m \u001b[0mnp\u001b[0m\u001b[0;34m.\u001b[0m\u001b[0mfrombuffer\u001b[0m\u001b[0;34m(\u001b[0m\u001b[0mimg_bytes\u001b[0m\u001b[0;34m,\u001b[0m \u001b[0mdtype\u001b[0m\u001b[0;34m=\u001b[0m\u001b[0mnp\u001b[0m\u001b[0;34m.\u001b[0m\u001b[0muint8\u001b[0m\u001b[0;34m)\u001b[0m\u001b[0;34m\u001b[0m\u001b[0;34m\u001b[0m\u001b[0m\n",
            "\u001b[0;32m/usr/local/lib/python3.11/dist-packages/google/colab/output/_js.py\u001b[0m in \u001b[0;36meval_js\u001b[0;34m(script, ignore_result, timeout_sec)\u001b[0m\n\u001b[1;32m     38\u001b[0m   \u001b[0;32mif\u001b[0m \u001b[0mignore_result\u001b[0m\u001b[0;34m:\u001b[0m\u001b[0;34m\u001b[0m\u001b[0;34m\u001b[0m\u001b[0m\n\u001b[1;32m     39\u001b[0m     \u001b[0;32mreturn\u001b[0m\u001b[0;34m\u001b[0m\u001b[0;34m\u001b[0m\u001b[0m\n\u001b[0;32m---> 40\u001b[0;31m   \u001b[0;32mreturn\u001b[0m \u001b[0m_message\u001b[0m\u001b[0;34m.\u001b[0m\u001b[0mread_reply_from_input\u001b[0m\u001b[0;34m(\u001b[0m\u001b[0mrequest_id\u001b[0m\u001b[0;34m,\u001b[0m \u001b[0mtimeout_sec\u001b[0m\u001b[0;34m)\u001b[0m\u001b[0;34m\u001b[0m\u001b[0;34m\u001b[0m\u001b[0m\n\u001b[0m\u001b[1;32m     41\u001b[0m \u001b[0;34m\u001b[0m\u001b[0m\n\u001b[1;32m     42\u001b[0m \u001b[0;34m\u001b[0m\u001b[0m\n",
            "\u001b[0;32m/usr/local/lib/python3.11/dist-packages/google/colab/_message.py\u001b[0m in \u001b[0;36mread_reply_from_input\u001b[0;34m(message_id, timeout_sec)\u001b[0m\n\u001b[1;32m     94\u001b[0m     \u001b[0mreply\u001b[0m \u001b[0;34m=\u001b[0m \u001b[0m_read_next_input_message\u001b[0m\u001b[0;34m(\u001b[0m\u001b[0;34m)\u001b[0m\u001b[0;34m\u001b[0m\u001b[0;34m\u001b[0m\u001b[0m\n\u001b[1;32m     95\u001b[0m     \u001b[0;32mif\u001b[0m \u001b[0mreply\u001b[0m \u001b[0;34m==\u001b[0m \u001b[0m_NOT_READY\u001b[0m \u001b[0;32mor\u001b[0m \u001b[0;32mnot\u001b[0m \u001b[0misinstance\u001b[0m\u001b[0;34m(\u001b[0m\u001b[0mreply\u001b[0m\u001b[0;34m,\u001b[0m \u001b[0mdict\u001b[0m\u001b[0;34m)\u001b[0m\u001b[0;34m:\u001b[0m\u001b[0;34m\u001b[0m\u001b[0;34m\u001b[0m\u001b[0m\n\u001b[0;32m---> 96\u001b[0;31m       \u001b[0mtime\u001b[0m\u001b[0;34m.\u001b[0m\u001b[0msleep\u001b[0m\u001b[0;34m(\u001b[0m\u001b[0;36m0.025\u001b[0m\u001b[0;34m)\u001b[0m\u001b[0;34m\u001b[0m\u001b[0;34m\u001b[0m\u001b[0m\n\u001b[0m\u001b[1;32m     97\u001b[0m       \u001b[0;32mcontinue\u001b[0m\u001b[0;34m\u001b[0m\u001b[0;34m\u001b[0m\u001b[0m\n\u001b[1;32m     98\u001b[0m     if (\n",
            "\u001b[0;31mKeyboardInterrupt\u001b[0m: "
          ]
        }
      ],
      "source": [
        "# imports for running in real time\n",
        "from google.colab.output import eval_js\n",
        "from base64 import b64decode\n",
        "from IPython.display import display, clear_output, Image as IPyImage\n",
        "from datetime import datetime\n",
        "\n",
        "# function for finding the frame\n",
        "def take_frame(quality=0.8):\n",
        "    js = f'''\n",
        "    async function capture(q) {{\n",
        "      const v = document.createElement('video');\n",
        "      const s = await navigator.mediaDevices.getUserMedia({{video:true}});\n",
        "      v.srcObject = s;\n",
        "      await v.play();\n",
        "      await new Promise(r => setTimeout(r,200));\n",
        "      const c = document.createElement('canvas');\n",
        "      c.width = v.videoWidth; c.height = v.videoHeight;\n",
        "      c.getContext('2d').drawImage(v, 0,0);\n",
        "      s.getVideoTracks()[0].stop();\n",
        "      return c.toDataURL('image/jpeg', q);\n",
        "    }}\n",
        "    capture({quality})\n",
        "    '''\n",
        "    data = eval_js(js)\n",
        "    img_bytes = b64decode(data.split(',')[1])\n",
        "    arr = np.frombuffer(img_bytes, dtype=np.uint8)\n",
        "    return cv2.imdecode(arr, cv2.IMREAD_COLOR)\n",
        "\n",
        "# 3) Transforms & label map\n",
        "tf = T.Compose([\n",
        "    T.Resize((224,224)),\n",
        "    T.ToTensor(),\n",
        "    T.Normalize([0.485,0.456,0.406],[0.229,0.224,0.225])\n",
        "])\n",
        "id2label = dict(enumerate(image_df['label'].astype('category').cat.categories))\n",
        "\n",
        "# setup saaving of frames\n",
        "save_dir = \"/content/drive/MyDrive/Captured_signs\"\n",
        "os.makedirs(save_dir, exist_ok=True)\n",
        "\n",
        "# saving frequency options\n",
        "frame_counter = 0\n",
        "save_every = 5\n",
        "\n",
        "loop = True\n",
        "# main loop for real time detections\n",
        "while loop == True:\n",
        "    frame = take_frame()\n",
        "    if frame is None:\n",
        "        print(\"Failed to grab frame.\")\n",
        "        break\n",
        "\n",
        "    rgb = cv2.cvtColor(frame, cv2.COLOR_BGR2RGB)\n",
        "    results = hands.process(rgb)\n",
        "\n",
        "    if results.multi_hand_landmarks:\n",
        "        lm = results.multi_hand_landmarks[0].landmark\n",
        "        for p in lm:\n",
        "            x,y = int(p.x*frame.shape[1]), int(p.y*frame.shape[0])\n",
        "            cv2.circle(frame, (x,y), 3, (0,255,0), -1)\n",
        "\n",
        "        kp   = torch.tensor(np.array([[p.x,p.y,p.z] for p in lm]).flatten(),\n",
        "                             dtype=torch.float32).to(device)\n",
        "        kp = kp.unsqueeze(0).unsqueeze(0)\n",
        "\n",
        "        with torch.no_grad():\n",
        "            logits = model(kp)\n",
        "            pred = id2label[logits.argmax(dim=1).item()]\n",
        "\n",
        "        cv2.putText(frame, f\"Sign: {pred}\", (10,40),\n",
        "                    cv2.FONT_HERSHEY_SIMPLEX, 1, (0,255,0), 2)\n",
        "        frame_counter += 1\n",
        "\n",
        "        # Save every frame as defined before\n",
        "        if frame_counter % save_every == 0:\n",
        "            timestamp = datetime.now().strftime(\"%Y%m%d_%H%M%S_%f\")\n",
        "            filename = f\"{pred}_{timestamp}.jpg\"\n",
        "            filepath = os.path.join(save_dir, filename)\n",
        "            cv2.imwrite(filepath, frame)\n",
        "            print(f\"Saved: {filepath}\")\n",
        "\n",
        "    clear_output(wait=True)\n",
        "    _, buf = cv2.imencode('.jpg', frame)\n",
        "    display(IPyImage(data=buf.tobytes()))\n",
        "\n",
        "# Cleanup\n",
        "clear_output()\n",
        "print(\"Stopped.\")"
      ]
    }
  ],
  "metadata": {
    "kernelspec": {
      "display_name": "Python 3",
      "name": "python3"
    },
    "language_info": {
      "codemirror_mode": {
        "name": "ipython",
        "version": 3
      },
      "file_extension": ".py",
      "mimetype": "text/x-python",
      "name": "python",
      "nbconvert_exporter": "python",
      "pygments_lexer": "ipython3",
      "version": "3.11.9"
    },
    "colab": {
      "provenance": [],
      "machine_shape": "hm",
      "gpuType": "A100",
      "include_colab_link": true
    },
    "accelerator": "GPU"
  },
  "nbformat": 4,
  "nbformat_minor": 5
}